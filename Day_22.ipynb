{
 "cells": [
  {
   "cell_type": "code",
   "execution_count": 11,
   "id": "d2114c2c-e31e-47f0-afe1-5acbbabbcb68",
   "metadata": {},
   "outputs": [],
   "source": [
    "# Day 22 - Unit Testing Basics with unittest\n",
    "\n",
    "import unittest\n",
    "\n",
    "# Function to test\n",
    "def add(a, b):\n",
    "    return a + b\n",
    "\n",
    "def divide(a, b):\n",
    "    if b == 0:\n",
    "        raise ValueError(\"Division by zero is not allowed\")\n",
    "    return a / b\n",
    "\n",
    "\n",
    "# Unit Test Class\n",
    "class TestMathOperations(unittest.TestCase):\n",
    "    \n",
    "    def test_add(self):\n",
    "        self.assertEqual(add(2, 3), 5)\n",
    "        self.assertEqual(add(-1, 1), 0)\n",
    "        self.assertEqual(add(-1, -1), -2)\n",
    "    \n",
    "    def test_divide(self):\n",
    "        self.assertEqual(divide(10, 2), 5)\n",
    "        self.assertEqual(divide(-6, 3), -2)\n",
    "    \n",
    "    def test_divide_by_zero(self):\n",
    "        with self.assertRaises(ValueError):\n",
    "            divide(5, 0)"
   ]
  },
  {
   "cell_type": "code",
   "execution_count": 12,
   "id": "28c49f5f-a74d-4e66-99d5-72c7af7dd568",
   "metadata": {},
   "outputs": [
    {
     "name": "stderr",
     "output_type": "stream",
     "text": [
      "test_add (__main__.TestMathOperations.test_add) ... ok\n",
      "test_divide (__main__.TestMathOperations.test_divide) ... ok\n",
      "test_divide_by_zero (__main__.TestMathOperations.test_divide_by_zero) ... ok\n",
      "\n",
      "----------------------------------------------------------------------\n",
      "Ran 3 tests in 0.002s\n",
      "\n",
      "OK\n"
     ]
    }
   ],
   "source": [
    "# Running tests\n",
    "def run_tests():\n",
    "    suite = unittest.TestLoader().loadTestsFromTestCase(TestMathOperations)\n",
    "    unittest.TextTestRunner(verbosity=2).run(suite)\n",
    "\n",
    "run_tests()"
   ]
  }
 ],
 "metadata": {
  "kernelspec": {
   "display_name": "Python 3 (ipykernel)",
   "language": "python",
   "name": "python3"
  },
  "language_info": {
   "codemirror_mode": {
    "name": "ipython",
    "version": 3
   },
   "file_extension": ".py",
   "mimetype": "text/x-python",
   "name": "python",
   "nbconvert_exporter": "python",
   "pygments_lexer": "ipython3",
   "version": "3.13.5"
  }
 },
 "nbformat": 4,
 "nbformat_minor": 5
}
