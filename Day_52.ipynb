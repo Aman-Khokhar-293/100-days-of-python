{
 "cells": [
  {
   "cell_type": "code",
   "execution_count": 11,
   "id": "bcd2282d-cfe2-47dc-bff5-1d18c01e9fd4",
   "metadata": {},
   "outputs": [],
   "source": [
    "import numpy as np\n",
    "import pandas as pd\n",
    "from sklearn.preprocessing import LabelEncoder, OneHotEncoder\n",
    "\n",
    "# Sample dataset\n",
    "data = pd.DataFrame({\n",
    "    'Color': ['Red', 'Blue', 'Green', 'Red', 'Blue']\n",
    "})"
   ]
  },
  {
   "cell_type": "code",
   "execution_count": 12,
   "id": "cae1c7a9-eced-4734-8b98-7915e532d317",
   "metadata": {},
   "outputs": [],
   "source": [
    "# Label Encoding\n",
    "label_encoder = LabelEncoder()\n",
    "data['Color_Label'] = label_encoder.fit_transform(data['Color'])"
   ]
  },
  {
   "cell_type": "code",
   "execution_count": 13,
   "id": "9a184cc8-6705-4d7e-8de6-bd71e3765b2a",
   "metadata": {},
   "outputs": [],
   "source": [
    "# One-Hot Encoding\n",
    "onehot = OneHotEncoder()\n",
    "encoded = onehot.fit_transform(data[['Color']]).toarray()\n",
    "onehot_df = pd.DataFrame(encoded, columns=onehot.categories_[0])"
   ]
  },
  {
   "cell_type": "code",
   "execution_count": 14,
   "id": "d60ece3a-c81f-41e1-bdfe-b89266cf0c59",
   "metadata": {},
   "outputs": [
    {
     "name": "stdout",
     "output_type": "stream",
     "text": [
      "   Color  Color_Label  Blue  Green  Red\n",
      "0    Red            2   0.0    0.0  1.0\n",
      "1   Blue            0   1.0    0.0  0.0\n",
      "2  Green            1   0.0    1.0  0.0\n",
      "3    Red            2   0.0    0.0  1.0\n",
      "4   Blue            0   1.0    0.0  0.0\n"
     ]
    }
   ],
   "source": [
    " # Final Dataset\n",
    "final_data = pd.concat([data, onehot_df], axis=1)\n",
    "print(final_data)"
   ]
  },
  {
   "cell_type": "code",
   "execution_count": null,
   "id": "5958c35f-eb0e-4909-afdc-3566b03ac1e9",
   "metadata": {},
   "outputs": [],
   "source": []
  }
 ],
 "metadata": {
  "kernelspec": {
   "display_name": "Python 3 (ipykernel)",
   "language": "python",
   "name": "python3"
  },
  "language_info": {
   "codemirror_mode": {
    "name": "ipython",
    "version": 3
   },
   "file_extension": ".py",
   "mimetype": "text/x-python",
   "name": "python",
   "nbconvert_exporter": "python",
   "pygments_lexer": "ipython3",
   "version": "3.13.5"
  }
 },
 "nbformat": 4,
 "nbformat_minor": 5
}
