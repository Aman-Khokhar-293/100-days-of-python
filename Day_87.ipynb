{
 "cells": [
  {
   "cell_type": "code",
   "execution_count": 21,
   "id": "2fb6b681-a440-46f4-b92d-ffeae04b0106",
   "metadata": {},
   "outputs": [
    {
     "name": "stdout",
     "output_type": "stream",
     "text": [
      "Original Data:\n",
      "      Area  Bedrooms Location  Price\n",
      "0  1200.0         2        A    200\n",
      "1  1500.0         3        B    250\n",
      "2     NaN         3        A    240\n",
      "3  1800.0         4        C    310\n",
      "4  2400.0         4        B    360\n",
      "5  3000.0         5        A    400\n",
      "6  3500.0         4        C    420\n",
      "7     NaN         3        C    390\n",
      "8  4000.0         5        B    450\n",
      "9  4200.0         6        A    500\n"
     ]
    }
   ],
   "source": [
    "# Day 87 - Advanced Feature Engineering\n",
    "import pandas as pd\n",
    "import numpy as np\n",
    "from sklearn.model_selection import train_test_split\n",
    "from sklearn.preprocessing import StandardScaler, LabelEncoder, OneHotEncoder, PolynomialFeatures, PowerTransformer\n",
    "from sklearn.decomposition import PCA\n",
    "from sklearn.linear_model import LinearRegression\n",
    "from sklearn.metrics import r2_score\n",
    "\n",
    "# ---------------- Sample Dataset ----------------\n",
    "data = {\n",
    "    'Area': [1200, 1500, np.nan, 1800, 2400, 3000, 3500, np.nan, 4000, 4200],\n",
    "    'Bedrooms': [2, 3, 3, 4, 4, 5, 4, 3, 5, 6],\n",
    "    'Location': ['A', 'B', 'A', 'C', 'B', 'A', 'C', 'C', 'B', 'A'],\n",
    "    'Price': [200, 250, 240, 310, 360, 400, 420, 390, 450, 500]\n",
    "}\n",
    "df = pd.DataFrame(data)\n",
    "print(\"Original Data:\\n\", df)"
   ]
  },
  {
   "cell_type": "code",
   "execution_count": 22,
   "id": "14a6049c-e33c-4d65-9ac0-a8d7cce11c88",
   "metadata": {},
   "outputs": [],
   "source": [
    "# ---------------- 1️⃣ Handling Missing Values ----------------\n",
    "df['Area'] = df['Area'].fillna(df['Area'].mean())"
   ]
  },
  {
   "cell_type": "code",
   "execution_count": 23,
   "id": "869ea981-4697-475d-88c2-1305006204ad",
   "metadata": {},
   "outputs": [],
   "source": [
    "# ---------------- 2️⃣ Encoding Categorical Variables ----------------\n",
    "label_encoder = LabelEncoder()\n",
    "df['Location_Label'] = label_encoder.fit_transform(df['Location'])\n",
    "\n",
    "# One-hot encoding (alternative) - this will drop the 'Location' column\n",
    "df = pd.get_dummies(df, columns=['Location'], drop_first=True)"
   ]
  },
  {
   "cell_type": "code",
   "execution_count": 24,
   "id": "a72d24d1-eb11-4afc-b51e-b0e13c3e8a34",
   "metadata": {},
   "outputs": [],
   "source": [
    "# ---------------- 3️⃣ Feature Scaling ----------------\n",
    "scaler = StandardScaler()\n",
    "scaled_features = scaler.fit_transform(df[['Area', 'Bedrooms']])\n",
    "df[['Area_Scaled', 'Bedrooms_Scaled']] = scaled_features"
   ]
  },
  {
   "cell_type": "code",
   "execution_count": 25,
   "id": "a418d16f-d52b-4ae8-9bff-edac03833fbf",
   "metadata": {},
   "outputs": [],
   "source": [
    "# ---------------- 4️⃣ Feature Interaction ----------------\n",
    "poly = PolynomialFeatures(degree=2, include_bias=False)\n",
    "interaction_features = poly.fit_transform(df[['Area_Scaled', 'Bedrooms_Scaled']])\n",
    "interaction_df = pd.DataFrame(\n",
    "    interaction_features, \n",
    "    columns=poly.get_feature_names_out(['Area_Scaled', 'Bedrooms_Scaled'])\n",
    ")\n",
    "df = pd.concat([df, interaction_df], axis=1)"
   ]
  },
  {
   "cell_type": "code",
   "execution_count": 26,
   "id": "a5bb7565-68c8-4879-8899-e6f2fcbae17b",
   "metadata": {},
   "outputs": [],
   "source": [
    "# ---------------- 5️⃣ Power Transformation (Normalization) ----------------\n",
    "pt = PowerTransformer()\n",
    "area_bed_transformed = pt.fit_transform(df[['Area', 'Bedrooms']])\n",
    "df['Area_BoxCox'] = area_bed_transformed[:, 0]\n",
    "df['Bedrooms_BoxCox'] = area_bed_transformed[:, 1]"
   ]
  },
  {
   "cell_type": "code",
   "execution_count": 27,
   "id": "b6ea5fad-2af6-43d9-a9fc-f4eaa2cb631f",
   "metadata": {},
   "outputs": [],
   "source": [
    "\n",
    "# ---------------- 6️⃣ Feature Extraction with PCA ----------------\n",
    "X = df[['Area_Scaled', 'Bedrooms_Scaled', 'Area_Scaled^2', 'Bedrooms_Scaled^2']]\n",
    "pca = PCA(n_components=2)\n",
    "pca_features = pca.fit_transform(X)\n",
    "df['PCA1'] = pca_features[:, 0]\n",
    "df['PCA2'] = pca_features[:, 1]"
   ]
  },
  {
   "cell_type": "code",
   "execution_count": 28,
   "id": "359201a7-0bc5-4774-88f9-b51a3593f0b7",
   "metadata": {},
   "outputs": [
    {
     "name": "stdout",
     "output_type": "stream",
     "text": [
      "\n",
      "R2 Score before Feature Engineering: 0.978\n",
      "R2 Score after Feature Engineering: 0.862\n"
     ]
    }
   ],
   "source": [
    "# ---------------- Model Comparison ----------------\n",
    "X = df[['Area', 'Bedrooms', 'Location_Label']]\n",
    "y = df['Price']\n",
    "X_train, X_test, y_train, y_test = train_test_split(X, y, test_size=0.2, random_state=42)\n",
    "\n",
    "# Model before Feature Engineering\n",
    "lr1 = LinearRegression()\n",
    "lr1.fit(X_train, y_train)\n",
    "pred1 = lr1.predict(X_test)\n",
    "print(\"\\nR2 Score before Feature Engineering:\", round(r2_score(y_test, pred1), 3))\n",
    "\n",
    "# Model after Feature Engineering\n",
    "X_fe = df[['Area_Scaled', 'Bedrooms_Scaled', 'Area_Scaled Bedrooms_Scaled', 'PCA1', 'PCA2']]\n",
    "X_train2, X_test2, y_train2, y_test2 = train_test_split(X_fe, y, test_size=0.2, random_state=42)\n",
    "\n",
    "lr2 = LinearRegression()\n",
    "lr2.fit(X_train2, y_train2)\n",
    "pred2 = lr2.predict(X_test2)\n",
    "print(\"R2 Score after Feature Engineering:\", round(r2_score(y_test2, pred2), 3))"
   ]
  },
  {
   "cell_type": "code",
   "execution_count": 29,
   "id": "487be1fe-db68-449e-bea8-bf68c5d35d77",
   "metadata": {},
   "outputs": [
    {
     "name": "stdout",
     "output_type": "stream",
     "text": [
      "\n",
      "Transformed DataFrame:\n",
      "      Area  Bedrooms  Price  Location_Label  Location_B  Location_C  \\\n",
      "0  1200.0         2    200               0       False       False   \n",
      "1  1500.0         3    250               1        True       False   \n",
      "2  2700.0         3    240               0       False       False   \n",
      "3  1800.0         4    310               2       False        True   \n",
      "4  2400.0         4    360               1        True       False   \n",
      "\n",
      "   Area_Scaled  Bedrooms_Scaled  Area_Scaled  Bedrooms_Scaled  Area_Scaled^2  \\\n",
      "0    -1.558783        -1.672857    -1.558783        -1.672857       2.429806   \n",
      "1    -1.247027        -0.792406    -1.247027        -0.792406       1.555076   \n",
      "2     0.000000        -0.792406     0.000000        -0.792406       0.000000   \n",
      "3    -0.935270         0.088045    -0.935270         0.088045       0.874730   \n",
      "4    -0.311757         0.088045    -0.311757         0.088045       0.097192   \n",
      "\n",
      "   Area_Scaled Bedrooms_Scaled  Bedrooms_Scaled^2  Area_BoxCox  \\\n",
      "0                     2.607621           2.798450    -1.643022   \n",
      "1                     0.988151           0.627907    -1.271386   \n",
      "2                    -0.000000           0.627907     0.051073   \n",
      "3                    -0.082346           0.007752    -0.919727   \n",
      "4                    -0.027449           0.007752    -0.260935   \n",
      "\n",
      "   Bedrooms_BoxCox      PCA1      PCA2  \n",
      "0        -1.811662 -2.688485  2.902143  \n",
      "1        -0.768251 -2.003236  0.507093  \n",
      "2        -0.768251 -0.948398 -0.781566  \n",
      "3         0.147357 -1.017100 -0.598184  \n",
      "4         0.147357 -0.489681 -1.242513  \n",
      "\n",
      "DataFrame shape: (10, 17)\n",
      "\n",
      "All columns: ['Area', 'Bedrooms', 'Price', 'Location_Label', 'Location_B', 'Location_C', 'Area_Scaled', 'Bedrooms_Scaled', 'Area_Scaled', 'Bedrooms_Scaled', 'Area_Scaled^2', 'Area_Scaled Bedrooms_Scaled', 'Bedrooms_Scaled^2', 'Area_BoxCox', 'Bedrooms_BoxCox', 'PCA1', 'PCA2']\n"
     ]
    }
   ],
   "source": [
    "# ---------------- Output ----------------\n",
    "print(\"\\nTransformed DataFrame:\\n\", df.head())\n",
    "print(\"\\nDataFrame shape:\", df.shape)\n",
    "print(\"\\nAll columns:\", df.columns.tolist())"
   ]
  },
  {
   "cell_type": "code",
   "execution_count": null,
   "id": "8948824a-9e6a-46e3-b5d1-cfa7fea35ce8",
   "metadata": {},
   "outputs": [],
   "source": []
  }
 ],
 "metadata": {
  "kernelspec": {
   "display_name": "Python 3 (ipykernel)",
   "language": "python",
   "name": "python3"
  },
  "language_info": {
   "codemirror_mode": {
    "name": "ipython",
    "version": 3
   },
   "file_extension": ".py",
   "mimetype": "text/x-python",
   "name": "python",
   "nbconvert_exporter": "python",
   "pygments_lexer": "ipython3",
   "version": "3.13.7"
  }
 },
 "nbformat": 4,
 "nbformat_minor": 5
}
