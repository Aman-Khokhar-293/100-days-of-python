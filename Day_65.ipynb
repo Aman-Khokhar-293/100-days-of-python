{
 "cells": [
  {
   "cell_type": "code",
   "execution_count": 11,
   "id": "75eb6938-30fb-46b8-8e88-b498309a81b3",
   "metadata": {},
   "outputs": [],
   "source": [
    "# Day 65 – Random Forest Hyperparameter Tuning\n",
    "\n",
    "import numpy as np\n",
    "import pandas as pd\n",
    "from sklearn.datasets import load_breast_cancer\n",
    "from sklearn.model_selection import train_test_split, GridSearchCV, RandomizedSearchCV\n",
    "from sklearn.ensemble import RandomForestClassifier\n",
    "from sklearn.metrics import accuracy_score, classification_report\n",
    "\n",
    "# Load dataset\n",
    "data = load_breast_cancer()\n",
    "X = pd.DataFrame(data.data, columns=data.feature_names)\n",
    "y = data.target\n",
    "\n",
    "# Train-test split\n",
    "X_train, X_test, y_train, y_test = train_test_split(\n",
    "    X, y, test_size=0.2, random_state=42, stratify=y\n",
    ")\n"
   ]
  },
  {
   "cell_type": "code",
   "execution_count": 12,
   "id": "37e6618b-dd87-4821-957e-69e38fdb243b",
   "metadata": {},
   "outputs": [
    {
     "name": "stdout",
     "output_type": "stream",
     "text": [
      " Baseline Accuracy: 0.956140350877193\n"
     ]
    }
   ],
   "source": [
    "# ---------------------------\n",
    "# Baseline Random Forest Model\n",
    "# ---------------------------\n",
    "rf = RandomForestClassifier(random_state=42)\n",
    "rf.fit(X_train, y_train)\n",
    "y_pred = rf.predict(X_test)\n",
    "print(\" Baseline Accuracy:\", accuracy_score(y_test, y_pred))"
   ]
  },
  {
   "cell_type": "code",
   "execution_count": 13,
   "id": "39ff8e47-303a-409c-ab45-f6f398c12363",
   "metadata": {},
   "outputs": [
    {
     "name": "stdout",
     "output_type": "stream",
     "text": [
      "\n",
      " Best Params (GridSearchCV): {'max_depth': None, 'max_features': 'sqrt', 'min_samples_split': 2, 'n_estimators': 200}\n",
      "Best CV Score: 0.9604395604395606\n",
      " Accuracy after GridSearchCV: 0.956140350877193\n"
     ]
    }
   ],
   "source": [
    "\n",
    "# ---------------------------\n",
    "# Hyperparameter Tuning - GridSearchCV\n",
    "# ---------------------------\n",
    "param_grid = {\n",
    "    \"n_estimators\": [50, 100, 200],\n",
    "    \"max_depth\": [None, 5, 10],\n",
    "    \"max_features\": [\"sqrt\", \"log2\"],\n",
    "    \"min_samples_split\": [2, 5, 10]\n",
    "}\n",
    "\n",
    "grid_search = GridSearchCV(\n",
    "    estimator=RandomForestClassifier(random_state=42),\n",
    "    param_grid=param_grid,\n",
    "    cv=5,\n",
    "    n_jobs=-1,\n",
    "    scoring=\"accuracy\"\n",
    ")\n",
    "\n",
    "grid_search.fit(X_train, y_train)\n",
    "print(\"\\n Best Params (GridSearchCV):\", grid_search.best_params_)\n",
    "print(\"Best CV Score:\", grid_search.best_score_)\n",
    "\n",
    "# Evaluate best model\n",
    "best_grid = grid_search.best_estimator_\n",
    "y_pred_grid = best_grid.predict(X_test)\n",
    "print(\" Accuracy after GridSearchCV:\", accuracy_score(y_test, y_pred_grid))"
   ]
  },
  {
   "cell_type": "code",
   "execution_count": 14,
   "id": "27d6481f-8955-417a-b298-184df7f328b4",
   "metadata": {},
   "outputs": [
    {
     "name": "stdout",
     "output_type": "stream",
     "text": [
      "\n",
      " Best Params (RandomizedSearchCV): {'n_estimators': np.int64(150), 'min_samples_split': np.int64(2), 'max_features': 'sqrt', 'max_depth': np.int64(10)}\n",
      " Best CV Score: 0.9604395604395606\n",
      " Accuracy after RandomizedSearchCV: 0.956140350877193\n"
     ]
    }
   ],
   "source": [
    "\n",
    "# ---------------------------\n",
    "# Hyperparameter Tuning - RandomizedSearchCV\n",
    "# ---------------------------\n",
    "param_dist = {\n",
    "    \"n_estimators\": np.arange(50, 300, 50),\n",
    "    \"max_depth\": [None] + list(np.arange(5, 20, 5)),\n",
    "    \"max_features\": [\"sqrt\", \"log2\", None],\n",
    "    \"min_samples_split\": np.arange(2, 11)\n",
    "}\n",
    "\n",
    "random_search = RandomizedSearchCV(\n",
    "    estimator=RandomForestClassifier(random_state=42),\n",
    "    param_distributions=param_dist,\n",
    "    n_iter=20,  # number of random parameter combinations\n",
    "    cv=5,\n",
    "    n_jobs=-1,\n",
    "    scoring=\"accuracy\",\n",
    "    random_state=42\n",
    ")\n",
    "\n",
    "random_search.fit(X_train, y_train)\n",
    "print(\"\\n Best Params (RandomizedSearchCV):\", random_search.best_params_)\n",
    "print(\" Best CV Score:\", random_search.best_score_)\n",
    "\n",
    "# Evaluate best model\n",
    "best_random = random_search.best_estimator_\n",
    "y_pred_random = best_random.predict(X_test)\n",
    "print(\" Accuracy after RandomizedSearchCV:\", accuracy_score(y_test, y_pred_random))"
   ]
  },
  {
   "cell_type": "code",
   "execution_count": 15,
   "id": "2d419c10-254a-427b-90ec-1824041fe828",
   "metadata": {},
   "outputs": [
    {
     "name": "stdout",
     "output_type": "stream",
     "text": [
      "\n",
      " Final Model Comparison:\n",
      "Baseline Accuracy: 0.956140350877193\n",
      "GridSearchCV Accuracy: 0.956140350877193\n",
      "RandomizedSearchCV Accuracy: 0.956140350877193\n",
      "\n",
      "Classification Report (Best RandomizedSearchCV Model):\n",
      "              precision    recall  f1-score   support\n",
      "\n",
      "           0       0.95      0.93      0.94        42\n",
      "           1       0.96      0.97      0.97        72\n",
      "\n",
      "    accuracy                           0.96       114\n",
      "   macro avg       0.96      0.95      0.95       114\n",
      "weighted avg       0.96      0.96      0.96       114\n",
      "\n"
     ]
    }
   ],
   "source": [
    "# ---------------------------\n",
    "# Final Comparison\n",
    "# ---------------------------\n",
    "print(\"\\n Final Model Comparison:\")\n",
    "print(\"Baseline Accuracy:\", accuracy_score(y_test, y_pred))\n",
    "print(\"GridSearchCV Accuracy:\", accuracy_score(y_test, y_pred_grid))\n",
    "print(\"RandomizedSearchCV Accuracy:\", accuracy_score(y_test, y_pred_random))\n",
    "print(\"\\nClassification Report (Best RandomizedSearchCV Model):\")\n",
    "print(classification_report(y_test, y_pred_random))"
   ]
  },
  {
   "cell_type": "code",
   "execution_count": null,
   "id": "1d500f45-4486-4385-af62-e4cc2dbe7888",
   "metadata": {},
   "outputs": [],
   "source": []
  }
 ],
 "metadata": {
  "kernelspec": {
   "display_name": "Python 3 (ipykernel)",
   "language": "python",
   "name": "python3"
  },
  "language_info": {
   "codemirror_mode": {
    "name": "ipython",
    "version": 3
   },
   "file_extension": ".py",
   "mimetype": "text/x-python",
   "name": "python",
   "nbconvert_exporter": "python",
   "pygments_lexer": "ipython3",
   "version": "3.13.5"
  }
 },
 "nbformat": 4,
 "nbformat_minor": 5
}
