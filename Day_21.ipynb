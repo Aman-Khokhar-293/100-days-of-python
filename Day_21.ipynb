{
 "cells": [
  {
   "cell_type": "code",
   "execution_count": 4,
   "id": "ab34011f-512f-4134-80a9-95be569b1675",
   "metadata": {},
   "outputs": [
    {
     "name": "stdout",
     "output_type": "stream",
     "text": [
      "Automatic pdb calling has been turned ON\n"
     ]
    }
   ],
   "source": [
    "import logging\n",
    "\n",
    "# 1️ Configure logging (console + file)\n",
    "logging.basicConfig(\n",
    "    level=logging.DEBUG,\n",
    "    format=\"%(asctime)s - %(levelname)s - %(message)s\",\n",
    "    filename=\"app.log\",\n",
    "    filemode=\"w\"\n",
    ")\n",
    "\n",
    "# Enable automatic debugger in Jupyter\n",
    "%pdb on  \n",
    "\n",
    "# 2️ Function with logging & breakpoint\n",
    "def divide(a, b):\n",
    "    logging.info(f\"Trying to divide {a} by {b}\")\n",
    "    \n",
    "    breakpoint()  # Jupyter-friendly debugger\n",
    "    try:\n",
    "        result = a / b\n",
    "        logging.debug(f\"Result: {result}\")\n",
    "        return result\n",
    "    except ZeroDivisionError:\n",
    "        logging.error(\"Tried to divide by zero!\")\n",
    "        return None\n",
    "\n",
    "# 3️ Example run\n",
    "logging.info(\"Program started\")\n",
    "\n",
    "x = 10\n",
    "y = 0  # Try with 0 to see error\n",
    "\n",
    "logging.debug(f\"x = {x}, y = {y}\")\n",
    "result = divide(x, y)\n",
    "\n",
    "logging.info(f\"Final Result: {result}\")\n",
    "logging.info(\"Program finished\")\n"
   ]
  },
  {
   "cell_type": "code",
   "execution_count": null,
   "id": "8b4f2bb5-ff22-4eca-b3d9-38175f77f91e",
   "metadata": {},
   "outputs": [],
   "source": []
  }
 ],
 "metadata": {
  "kernelspec": {
   "display_name": "Python 3 (ipykernel)",
   "language": "python",
   "name": "python3"
  },
  "language_info": {
   "codemirror_mode": {
    "name": "ipython",
    "version": 3
   },
   "file_extension": ".py",
   "mimetype": "text/x-python",
   "name": "python",
   "nbconvert_exporter": "python",
   "pygments_lexer": "ipython3",
   "version": "3.13.5"
  }
 },
 "nbformat": 4,
 "nbformat_minor": 5
}
