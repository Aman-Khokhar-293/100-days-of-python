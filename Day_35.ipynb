{
 "cells": [
  {
   "cell_type": "code",
   "execution_count": 1,
   "id": "4532cf73-d705-4202-8fa6-560ca4f59f3a",
   "metadata": {},
   "outputs": [
    {
     "name": "stdout",
     "output_type": "stream",
     "text": [
      " Student Aman added.\n",
      " Student Krish added.\n",
      "\n",
      " Student Records:\n",
      "(1, 'Aman', 21, 'A')\n",
      "(2, 'Rehan', 20, 'B')\n",
      "(3, 'Aman', 21, 'A')\n",
      "(4, 'Krish', 20, 'B')\n",
      "Updated student ID 2 grade to A+\n",
      "\n",
      " Student Records:\n",
      "(1, 'Aman', 21, 'A')\n",
      "(2, 'Rehan', 20, 'A+')\n",
      "(3, 'Aman', 21, 'A')\n",
      "(4, 'Krish', 20, 'B')\n",
      " Deleted student with ID 1\n",
      "\n",
      " Student Records:\n",
      "(2, 'Rehan', 20, 'A+')\n",
      "(3, 'Aman', 21, 'A')\n",
      "(4, 'Krish', 20, 'B')\n"
     ]
    }
   ],
   "source": [
    "import sqlite3\n",
    "\n",
    "# Connect to DB\n",
    "conn = sqlite3.connect(\"students.db\")\n",
    "cursor = conn.cursor()\n",
    "\n",
    "# Create table if not exists\n",
    "cursor.execute(\"\"\"\n",
    "CREATE TABLE IF NOT EXISTS students (\n",
    "    id INTEGER PRIMARY KEY AUTOINCREMENT,\n",
    "    name TEXT NOT NULL,\n",
    "    age INTEGER,\n",
    "    grade TEXT\n",
    ")\n",
    "\"\"\")\n",
    "\n",
    "# -------- CRUD FUNCTIONS --------\n",
    "\n",
    "def create_student(name, age, grade):\n",
    "    cursor.execute(\"INSERT INTO students (name, age, grade) VALUES (?, ?, ?)\", (name, age, grade))\n",
    "    conn.commit()\n",
    "    print(f\" Student {name} added.\")\n",
    "\n",
    "def read_students():\n",
    "    cursor.execute(\"SELECT * FROM students\")\n",
    "    rows = cursor.fetchall()\n",
    "    print(\"\\n Student Records:\")\n",
    "    for row in rows:\n",
    "        print(row)\n",
    "\n",
    "def update_student(student_id, new_grade):\n",
    "    cursor.execute(\"UPDATE students SET grade = ? WHERE id = ?\", (new_grade, student_id))\n",
    "    conn.commit()\n",
    "    print(f\"Updated student ID {student_id} grade to {new_grade}\")\n",
    "\n",
    "def delete_student(student_id):\n",
    "    cursor.execute(\"DELETE FROM students WHERE id = ?\", (student_id,))\n",
    "    conn.commit()\n",
    "    print(f\" Deleted student with ID {student_id}\")\n",
    "\n",
    "# -------- DEMO --------\n",
    "create_student(\"Aman\", 21, \"A\")\n",
    "create_student(\"Krish\", 20, \"B\")\n",
    "\n",
    "read_students()\n",
    "\n",
    "update_student(2, \"A+\")\n",
    "\n",
    "read_students()\n",
    "\n",
    "delete_student(1)\n",
    "\n",
    "read_students()\n",
    "\n",
    "# Close connection\n",
    "conn.close()\n"
   ]
  },
  {
   "cell_type": "code",
   "execution_count": null,
   "id": "c1f80b9e-8c67-433c-9672-ba55edec3b44",
   "metadata": {},
   "outputs": [],
   "source": []
  }
 ],
 "metadata": {
  "kernelspec": {
   "display_name": "Python 3 (ipykernel)",
   "language": "python",
   "name": "python3"
  },
  "language_info": {
   "codemirror_mode": {
    "name": "ipython",
    "version": 3
   },
   "file_extension": ".py",
   "mimetype": "text/x-python",
   "name": "python",
   "nbconvert_exporter": "python",
   "pygments_lexer": "ipython3",
   "version": "3.13.5"
  }
 },
 "nbformat": 4,
 "nbformat_minor": 5
}
