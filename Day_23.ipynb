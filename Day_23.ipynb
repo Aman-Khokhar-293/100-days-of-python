{
 "cells": [
  {
   "cell_type": "code",
   "execution_count": 3,
   "id": "124983dc-9708-40f5-9273-1eacdc92f30c",
   "metadata": {},
   "outputs": [
    {
     "name": "stdout",
     "output_type": "stream",
     "text": [
      "Sum: 8\n",
      "Product: 15\n"
     ]
    }
   ],
   "source": [
    "#  Day 23 – Python Coding Standards (PEP 8)\n",
    "\n",
    "# ---\n",
    "#  Topic: Writing clean and readable Python code using PEP 8 guidelines\n",
    "# PEP 8 covers:\n",
    "# - Indentation\n",
    "# - Naming conventions\n",
    "# - Line length\n",
    "# - Imports\n",
    "# - Whitespace\n",
    "# - Comments & Docstrings\n",
    "# ---\n",
    "\n",
    "#  Example 1: Messy code (Before PEP 8)\n",
    "\n",
    "def addNumbers(a,b):return a+b\n",
    "def multiply(a,b):return a*b\n",
    "def main():print(\"Sum:\",addNumbers(5,3));print(\"Product:\",multiply(5,3))\n",
    "main()\n"
   ]
  },
  {
   "cell_type": "code",
   "execution_count": 4,
   "id": "66275295-d603-4f8b-ab87-05174d61d17e",
   "metadata": {},
   "outputs": [
    {
     "name": "stdout",
     "output_type": "stream",
     "text": [
      "Sum: 8\n",
      "Product: 15\n"
     ]
    }
   ],
   "source": [
    "# Example 2: Clean code (After PEP 8)\n",
    "\n",
    "def add_numbers(a, b):\n",
    "    \"\"\"\n",
    "    Returns the sum of two numbers.\n",
    "    \n",
    "    Args:\n",
    "        a (int or float): First number\n",
    "        b (int or float): Second number\n",
    "    \n",
    "    Returns:\n",
    "        int or float: Sum of a and b\n",
    "    \"\"\"\n",
    "    return a + b\n",
    "\n",
    "\n",
    "def multiply_numbers(a, b):\n",
    "    \"\"\"\n",
    "    Returns the product of two numbers.\n",
    "    \n",
    "    Args:\n",
    "        a (int or float): First number\n",
    "        b (int or float): Second number\n",
    "    \n",
    "    Returns:\n",
    "        int or float: Product of a and b\n",
    "    \"\"\"\n",
    "    return a * b\n",
    "\n",
    "\n",
    "def main():\n",
    "    \"\"\"Main function to run the program.\"\"\"\n",
    "    print(\"Sum:\", add_numbers(5, 3))\n",
    "    print(\"Product:\", multiply_numbers(5, 3))\n",
    "\n",
    "\n",
    "if __name__ == \"__main__\":\n",
    "    main()"
   ]
  },
  {
   "cell_type": "code",
   "execution_count": null,
   "id": "4b896368-8f87-4e71-ab88-2bf6be68aaed",
   "metadata": {},
   "outputs": [],
   "source": [
    "#  Key PEP 8 Tips:\n",
    "# 1. Use 4 spaces per indentation level\n",
    "# 2. Keep lines under 79 characters\n",
    "# 3. Use lowercase_with_underscores for function and variable names\n",
    "# 4. Use 2 blank lines to separate functions and classes\n",
    "# 5. Place imports at the top of the file\n",
    "# 6. Use docstrings (\"\"\" \"\"\") for documenting functions/classes\n",
    "# 7. Add spaces around operators: a + b, not a+b\n",
    "# 8. Avoid unnecessary semicolons"
   ]
  }
 ],
 "metadata": {
  "kernelspec": {
   "display_name": "Python 3 (ipykernel)",
   "language": "python",
   "name": "python3"
  },
  "language_info": {
   "codemirror_mode": {
    "name": "ipython",
    "version": 3
   },
   "file_extension": ".py",
   "mimetype": "text/x-python",
   "name": "python",
   "nbconvert_exporter": "python",
   "pygments_lexer": "ipython3",
   "version": "3.13.5"
  }
 },
 "nbformat": 4,
 "nbformat_minor": 5
}
