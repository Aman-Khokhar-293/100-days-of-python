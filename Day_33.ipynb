{
 "cells": [
  {
   "cell_type": "code",
   "execution_count": 1,
   "id": "9015821d-1505-4f5b-ad7e-5122989f1b79",
   "metadata": {},
   "outputs": [
    {
     "name": "stdin",
     "output_type": "stream",
     "text": [
      "Enter cryptocurrency name (e.g., bitcoin, ethereum):  bitcoin\n"
     ]
    },
    {
     "name": "stdout",
     "output_type": "stream",
     "text": [
      "Current price of Bitcoin = $114821\n"
     ]
    }
   ],
   "source": [
    "import requests\n",
    "\n",
    "def get_crypto_price(crypto_name):\n",
    "    url = f\"https://api.coingecko.com/api/v3/simple/price?ids={crypto_name}&vs_currencies=usd\"\n",
    "    response = requests.get(url)\n",
    "\n",
    "    if response.status_code == 200:\n",
    "        data = response.json()\n",
    "        if crypto_name in data:\n",
    "            return data[crypto_name][\"usd\"]\n",
    "        else:\n",
    "            return None\n",
    "    else:\n",
    "        return None\n",
    "\n",
    "# ---- APP ----\n",
    "crypto = input(\"Enter cryptocurrency name (e.g., bitcoin, ethereum): \").lower()\n",
    "price = get_crypto_price(crypto)\n",
    "\n",
    "if price:\n",
    "    print(f\"Current price of {crypto.capitalize()} = ${price}\")\n",
    "else:\n",
    "    print(\" Invalid cryptocurrency name or failed to fetch data.\")\n"
   ]
  },
  {
   "cell_type": "code",
   "execution_count": null,
   "id": "6e648e14-3b21-4a33-8254-63b71ff7d09f",
   "metadata": {},
   "outputs": [],
   "source": []
  }
 ],
 "metadata": {
  "kernelspec": {
   "display_name": "Python 3 (ipykernel)",
   "language": "python",
   "name": "python3"
  },
  "language_info": {
   "codemirror_mode": {
    "name": "ipython",
    "version": 3
   },
   "file_extension": ".py",
   "mimetype": "text/x-python",
   "name": "python",
   "nbconvert_exporter": "python",
   "pygments_lexer": "ipython3",
   "version": "3.13.5"
  }
 },
 "nbformat": 4,
 "nbformat_minor": 5
}
