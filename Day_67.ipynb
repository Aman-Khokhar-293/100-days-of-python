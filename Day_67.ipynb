{
 "cells": [
  {
   "cell_type": "code",
   "execution_count": 1,
   "id": "33808487-511c-4398-812f-026ccf3daa63",
   "metadata": {},
   "outputs": [],
   "source": [
    "# Day 67 – Naive Bayes Classifier\n",
    "\n",
    "import numpy as np\n",
    "import pandas as pd\n",
    "from sklearn.datasets import load_digits\n",
    "from sklearn.model_selection import train_test_split\n",
    "from sklearn.naive_bayes import GaussianNB, MultinomialNB, BernoulliNB\n",
    "from sklearn.metrics import accuracy_score, classification_report\n",
    "\n",
    "# Load dataset\n",
    "digits = load_digits()\n",
    "X, y = digits.data, digits.target\n",
    "\n",
    "# Split\n",
    "X_train, X_test, y_train, y_test = train_test_split(\n",
    "    X, y, test_size=0.2, random_state=42, stratify=y\n",
    ")"
   ]
  },
  {
   "cell_type": "code",
   "execution_count": 2,
   "id": "ffa5cd4f-99fd-48d5-86af-5d0da2003d15",
   "metadata": {},
   "outputs": [
    {
     "name": "stdout",
     "output_type": "stream",
     "text": [
      " Gaussian NB Accuracy: 0.8111111111111111\n"
     ]
    }
   ],
   "source": [
    "# ---------------------------\n",
    "# Gaussian Naive Bayes\n",
    "# ---------------------------\n",
    "gnb = GaussianNB()\n",
    "gnb.fit(X_train, y_train)\n",
    "y_pred_gnb = gnb.predict(X_test)\n",
    "print(\" Gaussian NB Accuracy:\", accuracy_score(y_test, y_pred_gnb))"
   ]
  },
  {
   "cell_type": "code",
   "execution_count": 3,
   "id": "a79e5e4a-84e2-467f-aede-dd0d4ac9de19",
   "metadata": {},
   "outputs": [
    {
     "name": "stdout",
     "output_type": "stream",
     "text": [
      " Multinomial NB Accuracy: 0.8888888888888888\n"
     ]
    }
   ],
   "source": [
    "\n",
    "# ---------------------------\n",
    "# Multinomial Naive Bayes\n",
    "# ---------------------------\n",
    "mnb = MultinomialNB()\n",
    "mnb.fit(X_train, y_train)\n",
    "y_pred_mnb = mnb.predict(X_test)\n",
    "print(\" Multinomial NB Accuracy:\", accuracy_score(y_test, y_pred_mnb))"
   ]
  },
  {
   "cell_type": "code",
   "execution_count": 4,
   "id": "b1a3c361-d601-4ac1-99ab-346c5e9f86c4",
   "metadata": {},
   "outputs": [
    {
     "name": "stdout",
     "output_type": "stream",
     "text": [
      " Bernoulli NB Accuracy: 0.8666666666666667\n"
     ]
    }
   ],
   "source": [
    "# ---------------------------\n",
    "# Bernoulli Naive Bayes\n",
    "# ---------------------------\n",
    "bnb = BernoulliNB()\n",
    "bnb.fit(X_train, y_train)\n",
    "y_pred_bnb = bnb.predict(X_test)\n",
    "print(\" Bernoulli NB Accuracy:\", accuracy_score(y_test, y_pred_bnb))"
   ]
  },
  {
   "cell_type": "code",
   "execution_count": 5,
   "id": "5f39754e-8588-4ff8-8949-9f267a43f85b",
   "metadata": {},
   "outputs": [
    {
     "name": "stdout",
     "output_type": "stream",
     "text": [
      "\n",
      " Naive Bayes Classifier Comparison:\n",
      "Gaussian NB: 0.8111111111111111\n",
      "Multinomial NB: 0.8888888888888888\n",
      "Bernoulli NB: 0.8666666666666667\n",
      "\n",
      "Classification Report (Gaussian NB):\n",
      "              precision    recall  f1-score   support\n",
      "\n",
      "           0       1.00      0.92      0.96        36\n",
      "           1       0.69      0.81      0.74        36\n",
      "           2       0.83      0.54      0.66        35\n",
      "           3       1.00      0.70      0.83        37\n",
      "           4       0.96      0.72      0.83        36\n",
      "           5       0.95      0.95      0.95        37\n",
      "           6       0.95      0.97      0.96        36\n",
      "           7       0.73      0.97      0.83        36\n",
      "           8       0.50      0.83      0.62        35\n",
      "           9       0.86      0.69      0.77        36\n",
      "\n",
      "    accuracy                           0.81       360\n",
      "   macro avg       0.85      0.81      0.81       360\n",
      "weighted avg       0.85      0.81      0.82       360\n",
      "\n"
     ]
    }
   ],
   "source": [
    "# ---------------------------\n",
    "# Comparison\n",
    "# ---------------------------\n",
    "print(\"\\n Naive Bayes Classifier Comparison:\")\n",
    "print(\"Gaussian NB:\", accuracy_score(y_test, y_pred_gnb))\n",
    "print(\"Multinomial NB:\", accuracy_score(y_test, y_pred_mnb))\n",
    "print(\"Bernoulli NB:\", accuracy_score(y_test, y_pred_bnb))\n",
    "\n",
    "print(\"\\nClassification Report (Gaussian NB):\")\n",
    "print(classification_report(y_test, y_pred_gnb))"
   ]
  },
  {
   "cell_type": "code",
   "execution_count": null,
   "id": "d4fb16a8-334a-4f6d-bddf-9ff78ec2636c",
   "metadata": {},
   "outputs": [],
   "source": []
  }
 ],
 "metadata": {
  "kernelspec": {
   "display_name": "Python 3 (ipykernel)",
   "language": "python",
   "name": "python3"
  },
  "language_info": {
   "codemirror_mode": {
    "name": "ipython",
    "version": 3
   },
   "file_extension": ".py",
   "mimetype": "text/x-python",
   "name": "python",
   "nbconvert_exporter": "python",
   "pygments_lexer": "ipython3",
   "version": "3.13.5"
  }
 },
 "nbformat": 4,
 "nbformat_minor": 5
}
