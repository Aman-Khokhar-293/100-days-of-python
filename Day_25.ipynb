{
 "cells": [
  {
   "cell_type": "code",
   "execution_count": 1,
   "id": "fe9d2df9-785e-4d63-84ec-0ee100cacadc",
   "metadata": {},
   "outputs": [],
   "source": [
    "import time\n",
    "from functools import wraps\n",
    "\n",
    "# --------------------------\n",
    "# Logger Decorator\n",
    "# --------------------------\n",
    "def logger(func):\n",
    "    @wraps(func)\n",
    "    def wrapper(*args, **kwargs):\n",
    "        start_time = time.time()\n",
    "        print(f\"[LOG] Running function: {func.__name__}\")\n",
    "        result = func(*args, **kwargs)\n",
    "        end_time = time.time()\n",
    "        print(f\"[LOG] Finished '{func.__name__}' in {end_time - start_time:.4f} seconds\")\n",
    "        return result\n",
    "    return wrapper"
   ]
  },
  {
   "cell_type": "code",
   "execution_count": 2,
   "id": "2142427c-4130-47c2-ad67-3bbd83b84310",
   "metadata": {},
   "outputs": [],
   "source": [
    "# --------------------------\n",
    "# Authentication Decorator\n",
    "# --------------------------\n",
    "def auth_required(func):\n",
    "    @wraps(func)\n",
    "    def wrapper(*args, **kwargs):\n",
    "        user_authenticated = True  # Change to False to test auth failure\n",
    "        if not user_authenticated:\n",
    "            print(\"[AUTH] Access Denied! Please log in.\")\n",
    "            return None\n",
    "        print(\"[AUTH] User authenticated successfully.\")\n",
    "        return func(*args, **kwargs)\n",
    "    return wrapper"
   ]
  },
  {
   "cell_type": "code",
   "execution_count": 3,
   "id": "838e7905-d904-428c-a346-1b3f58e85924",
   "metadata": {},
   "outputs": [],
   "source": [
    "# --------------------------\n",
    "# Example Function using Multiple Decorators\n",
    "# --------------------------\n",
    "@auth_required\n",
    "@logger\n",
    "def process_data(data):\n",
    "    \"\"\"Simulate data processing\"\"\"\n",
    "    print(f\"Processing data: {data}\")\n",
    "    time.sleep(1)  # Simulate time delay\n",
    "    print(\"Data processing complete!\")"
   ]
  },
  {
   "cell_type": "code",
   "execution_count": 4,
   "id": "d248543d-81c3-464e-a638-2486ac701878",
   "metadata": {},
   "outputs": [],
   "source": [
    "# --------------------------\n",
    "# Another Decorator Example\n",
    "# --------------------------\n",
    "def repeat(n):\n",
    "    \"\"\"Decorator to repeat a function n times\"\"\"\n",
    "    def decorator(func):\n",
    "        @wraps(func)\n",
    "        def wrapper(*args, **kwargs):\n",
    "            for i in range(n):\n",
    "                print(f\"[REPEAT] Execution {i + 1}\")\n",
    "                func(*args, **kwargs)\n",
    "        return wrapper\n",
    "    return decorator\n",
    "\n",
    "\n",
    "@repeat(3)\n",
    "def greet(name):\n",
    "    print(f\"Hello, {name}!\")"
   ]
  },
  {
   "cell_type": "code",
   "execution_count": 5,
   "id": "c8124452-2839-4cf5-a8e5-f41ce86066a2",
   "metadata": {},
   "outputs": [
    {
     "name": "stdout",
     "output_type": "stream",
     "text": [
      "[AUTH] User authenticated successfully.\n",
      "[LOG] Running function: process_data\n",
      "Processing data: User Information\n",
      "Data processing complete!\n",
      "[LOG] Finished 'process_data' in 1.0006 seconds\n",
      "\n",
      "---\n",
      "\n",
      "[REPEAT] Execution 1\n",
      "Hello, Aman!\n",
      "[REPEAT] Execution 2\n",
      "Hello, Aman!\n",
      "[REPEAT] Execution 3\n",
      "Hello, Aman!\n"
     ]
    }
   ],
   "source": [
    "# --------------------------\n",
    "# Main Execution\n",
    "# --------------------------\n",
    "if __name__ == \"__main__\":\n",
    "    process_data(\"User Information\")\n",
    "    print(\"\\n---\\n\")\n",
    "    greet(\"Aman\")"
   ]
  },
  {
   "cell_type": "code",
   "execution_count": null,
   "id": "73f76f41-8261-4391-96c1-73dd7a6cc8f8",
   "metadata": {},
   "outputs": [],
   "source": []
  }
 ],
 "metadata": {
  "kernelspec": {
   "display_name": "Python 3 (ipykernel)",
   "language": "python",
   "name": "python3"
  },
  "language_info": {
   "codemirror_mode": {
    "name": "ipython",
    "version": 3
   },
   "file_extension": ".py",
   "mimetype": "text/x-python",
   "name": "python",
   "nbconvert_exporter": "python",
   "pygments_lexer": "ipython3",
   "version": "3.13.5"
  }
 },
 "nbformat": 4,
 "nbformat_minor": 5
}
