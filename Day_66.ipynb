{
 "cells": [
  {
   "cell_type": "code",
   "execution_count": 1,
   "id": "90077e53-3751-40b5-9dff-a42317610175",
   "metadata": {},
   "outputs": [],
   "source": [
    "# Day 66 – Ensemble Learning\n",
    "\n",
    "import numpy as np\n",
    "import pandas as pd\n",
    "from sklearn.datasets import load_breast_cancer\n",
    "from sklearn.model_selection import train_test_split\n",
    "from sklearn.tree import DecisionTreeClassifier\n",
    "from sklearn.ensemble import BaggingClassifier, AdaBoostClassifier, GradientBoostingClassifier, VotingClassifier\n",
    "from sklearn.linear_model import LogisticRegression\n",
    "from sklearn.svm import SVC\n",
    "from sklearn.metrics import accuracy_score\n",
    "\n",
    "# Load dataset\n",
    "data = load_breast_cancer()\n",
    "X, y = data.data, data.target"
   ]
  },
  {
   "cell_type": "code",
   "execution_count": 2,
   "id": "c3b9ee1a-ebf2-4224-9b03-ef46ef4277ae",
   "metadata": {},
   "outputs": [],
   "source": [
    "# Split\n",
    "X_train, X_test, y_train, y_test = train_test_split(\n",
    "    X, y, test_size=0.2, random_state=42, stratify=y\n",
    ")"
   ]
  },
  {
   "cell_type": "code",
   "execution_count": 7,
   "id": "616ffefa-dc15-4229-a421-67bbb2802fe7",
   "metadata": {},
   "outputs": [
    {
     "name": "stdout",
     "output_type": "stream",
     "text": [
      "Bagging Accuracy: 0.9385964912280702\n"
     ]
    }
   ],
   "source": [
    "# ---------------------------\n",
    "# Bagging\n",
    "# ---------------------------\n",
    "bagging = BaggingClassifier(\n",
    "    estimator=DecisionTreeClassifier(),\n",
    "    n_estimators=50,\n",
    "    random_state=42\n",
    ")\n",
    "bagging.fit(X_train, y_train)\n",
    "y_pred_bag = bagging.predict(X_test)\n",
    "print(\"Bagging Accuracy:\", accuracy_score(y_test, y_pred_bag))"
   ]
  },
  {
   "cell_type": "code",
   "execution_count": 8,
   "id": "7c0c3dad-6f53-4a13-b2e9-d6a935de9448",
   "metadata": {},
   "outputs": [
    {
     "name": "stdout",
     "output_type": "stream",
     "text": [
      "AdaBoost Accuracy: 0.956140350877193\n",
      "Gradient Boosting Accuracy: 0.956140350877193\n"
     ]
    }
   ],
   "source": [
    "# ---------------------------\n",
    "# Boosting (AdaBoost & Gradient Boosting)\n",
    "# ---------------------------\n",
    "adaboost = AdaBoostClassifier(\n",
    "    estimator=DecisionTreeClassifier(max_depth=1),\n",
    "    n_estimators=50,\n",
    "    random_state=42\n",
    ")\n",
    "adaboost.fit(X_train, y_train)\n",
    "y_pred_ada = adaboost.predict(X_test)\n",
    "print(\"AdaBoost Accuracy:\", accuracy_score(y_test, y_pred_ada))\n",
    "\n",
    "gradboost = GradientBoostingClassifier(n_estimators=100, random_state=42)\n",
    "gradboost.fit(X_train, y_train)\n",
    "y_pred_gb = gradboost.predict(X_test)\n",
    "print(\"Gradient Boosting Accuracy:\", accuracy_score(y_test, y_pred_gb))"
   ]
  },
  {
   "cell_type": "code",
   "execution_count": 11,
   "id": "95fd5246-e5f5-43ec-b477-d250eb9fc761",
   "metadata": {},
   "outputs": [
    {
     "name": "stdout",
     "output_type": "stream",
     "text": [
      "Voting Classifier Accuracy: 0.9473684210526315\n"
     ]
    }
   ],
   "source": [
    "# ---------------------------\n",
    "# Voting Classifier (Hard & Soft Voting)\n",
    "# ---------------------------\n",
    "log_clf = LogisticRegression(max_iter=5000)\n",
    "svm_clf = SVC(probability=True)\n",
    "dt_clf = DecisionTreeClassifier()\n",
    "\n",
    "voting = VotingClassifier(\n",
    "    estimators=[(\"lr\", log_clf), (\"svm\", svm_clf), (\"dt\", dt_clf)],\n",
    "    voting=\"soft\"\n",
    ")\n",
    "\n",
    "voting.fit(X_train, y_train)\n",
    "y_pred_vote = voting.predict(X_test)\n",
    "print(\"Voting Classifier Accuracy:\", accuracy_score(y_test, y_pred_vote))"
   ]
  },
  {
   "cell_type": "code",
   "execution_count": 10,
   "id": "7f06695b-eebc-4f88-a1fa-7681a896e320",
   "metadata": {},
   "outputs": [
    {
     "name": "stdout",
     "output_type": "stream",
     "text": [
      "\n",
      " Ensemble Learning Comparison:\n",
      "Bagging: 0.9385964912280702\n",
      "AdaBoost: 0.956140350877193\n",
      "Gradient Boosting: 0.956140350877193\n",
      "Voting Classifier: 0.9385964912280702\n"
     ]
    }
   ],
   "source": [
    "\n",
    "# ---------------------------\n",
    "# Comparison\n",
    "# ---------------------------\n",
    "print(\"\\n Ensemble Learning Comparison:\")\n",
    "print(\"Bagging:\", accuracy_score(y_test, y_pred_bag))\n",
    "print(\"AdaBoost:\", accuracy_score(y_test, y_pred_ada))\n",
    "print(\"Gradient Boosting:\", accuracy_score(y_test, y_pred_gb))\n",
    "print(\"Voting Classifier:\", accuracy_score(y_test, y_pred_vote))"
   ]
  },
  {
   "cell_type": "code",
   "execution_count": null,
   "id": "6a18cbad-5b5a-4dee-84ad-80233b214062",
   "metadata": {},
   "outputs": [],
   "source": []
  }
 ],
 "metadata": {
  "kernelspec": {
   "display_name": "Python 3 (ipykernel)",
   "language": "python",
   "name": "python3"
  },
  "language_info": {
   "codemirror_mode": {
    "name": "ipython",
    "version": 3
   },
   "file_extension": ".py",
   "mimetype": "text/x-python",
   "name": "python",
   "nbconvert_exporter": "python",
   "pygments_lexer": "ipython3",
   "version": "3.13.5"
  }
 },
 "nbformat": 4,
 "nbformat_minor": 5
}
