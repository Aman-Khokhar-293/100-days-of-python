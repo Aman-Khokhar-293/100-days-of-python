{
 "cells": [
  {
   "cell_type": "code",
   "execution_count": 1,
   "id": "6e59c879-f9f6-4892-a38a-6ad6d656fdc5",
   "metadata": {},
   "outputs": [],
   "source": [
    "import numpy as np\n",
    "from sklearn.impute import SimpleImputer\n",
    "\n",
    "# Sample dataset with missing values\n",
    "X = np.array([[1, 2, np.nan],\n",
    "              [3, np.nan, 6],\n",
    "              [7, 8, 9],\n",
    "              [np.nan, 11, 12]])"
   ]
  },
  {
   "cell_type": "code",
   "execution_count": 8,
   "id": "33522bb9-5b8b-4a65-bc19-c374bd53ea71",
   "metadata": {},
   "outputs": [],
   "source": [
    "# Create imputer (replace NaN with column mean)\n",
    "imputer = SimpleImputer(strategy='mean')"
   ]
  },
  {
   "cell_type": "code",
   "execution_count": 9,
   "id": "3e0077be-40b0-484e-87ad-7f487dd07102",
   "metadata": {},
   "outputs": [],
   "source": [
    "# Fit and transform data\n",
    "X_clean = imputer.fit_transform(X)"
   ]
  },
  {
   "cell_type": "code",
   "execution_count": 10,
   "id": "5ca42be0-5e19-4782-a8e5-75d8c84f0928",
   "metadata": {},
   "outputs": [
    {
     "name": "stdout",
     "output_type": "stream",
     "text": [
      "Original Data:\n",
      " [[ 1.  2. nan]\n",
      " [ 3. nan  6.]\n",
      " [ 7.  8.  9.]\n",
      " [nan 11. 12.]]\n",
      "\n",
      "After Imputation:\n",
      " [[ 1.          2.          9.        ]\n",
      " [ 3.          7.          6.        ]\n",
      " [ 7.          8.          9.        ]\n",
      " [ 3.66666667 11.         12.        ]]\n"
     ]
    }
   ],
   "source": [
    "print(\"Original Data:\\n\", X)\n",
    "print(\"\\nAfter Imputation:\\n\", X_clean)"
   ]
  },
  {
   "cell_type": "code",
   "execution_count": null,
   "id": "4217e0d9-5cae-42f9-8deb-8ef38c60c694",
   "metadata": {},
   "outputs": [],
   "source": []
  }
 ],
 "metadata": {
  "kernelspec": {
   "display_name": "Python 3 (ipykernel)",
   "language": "python",
   "name": "python3"
  },
  "language_info": {
   "codemirror_mode": {
    "name": "ipython",
    "version": 3
   },
   "file_extension": ".py",
   "mimetype": "text/x-python",
   "name": "python",
   "nbconvert_exporter": "python",
   "pygments_lexer": "ipython3",
   "version": "3.13.5"
  }
 },
 "nbformat": 4,
 "nbformat_minor": 5
}
