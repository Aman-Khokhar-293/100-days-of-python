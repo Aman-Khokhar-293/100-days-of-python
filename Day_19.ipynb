{
 "cells": [
  {
   "cell_type": "code",
   "execution_count": 1,
   "id": "ffce67d1-6ccf-4761-8932-817b565e5d2a",
   "metadata": {},
   "outputs": [
    {
     "name": "stdout",
     "output_type": "stream",
     "text": [
      "Account Holder: Aman\n",
      "Balance: 1000\n",
      "500 deposited. New balance: 1500\n",
      "75.0 deposited. New balance: 1575.0\n",
      "Interest of 75.0 added at 5% rate.\n",
      "300 withdrawn. Remaining balance: 1275.0\n",
      "\n",
      "--- Loan Account Example ---\n",
      "Loan Account Holder: Ravi\n",
      "Outstanding Loan Balance: 5000\n",
      "1000 withdrawn. Remaining balance: 4000\n"
     ]
    }
   ],
   "source": [
    "# --- Bank Management System using OOP ---\n",
    "\n",
    "# Parent Class: Bank Account\n",
    "class BankAccount:\n",
    "    def __init__(self, account_holder, balance=0):\n",
    "        self.account_holder = account_holder\n",
    "        self.__balance = balance  # Encapsulation (private attribute)\n",
    "\n",
    "    def deposit(self, amount):\n",
    "        if amount > 0:\n",
    "            self.__balance += amount\n",
    "            print(f\"{amount} deposited. New balance: {self.__balance}\")\n",
    "        else:\n",
    "            print(\"Deposit amount must be positive!\")\n",
    "\n",
    "    def withdraw(self, amount):\n",
    "        if 0 < amount <= self.__balance:\n",
    "            self.__balance -= amount\n",
    "            print(f\"{amount} withdrawn. Remaining balance: {self.__balance}\")\n",
    "        else:\n",
    "            print(\"Invalid withdrawal amount!\")\n",
    "\n",
    "    def get_balance(self):\n",
    "        return self.__balance\n",
    "\n",
    "    def account_info(self):\n",
    "        print(f\"Account Holder: {self.account_holder}\")\n",
    "        print(f\"Balance: {self.__balance}\")\n",
    "\n",
    "# Child Class: Savings Account (Inheritance + Method Overriding)\n",
    "class SavingsAccount(BankAccount):\n",
    "    def __init__(self, account_holder, balance=0, interest_rate=5):\n",
    "        super().__init__(account_holder, balance)\n",
    "        self.interest_rate = interest_rate\n",
    "\n",
    "    def add_interest(self):\n",
    "        interest = self.get_balance() * (self.interest_rate / 100)\n",
    "        self.deposit(interest)\n",
    "        print(f\"Interest of {interest} added at {self.interest_rate}% rate.\")\n",
    "\n",
    "# Another Child Class for Polymorphism Example\n",
    "class LoanAccount(BankAccount):\n",
    "    def account_info(self):  # Method Overriding\n",
    "        print(f\"Loan Account Holder: {self.account_holder}\")\n",
    "        print(f\"Outstanding Loan Balance: {self.get_balance()}\")\n",
    "\n",
    "# --- Testing the Project ---\n",
    "if __name__ == \"__main__\":\n",
    "    # Create Savings Account\n",
    "    acc1 = SavingsAccount(\"Aman\", 1000)\n",
    "    acc1.account_info()\n",
    "    acc1.deposit(500)\n",
    "    acc1.add_interest()\n",
    "    acc1.withdraw(300)\n",
    "\n",
    "    print(\"\\n--- Loan Account Example ---\")\n",
    "    loan_acc = LoanAccount(\"Ravi\", 5000)\n",
    "    loan_acc.account_info()\n",
    "    loan_acc.withdraw(1000)\n"
   ]
  },
  {
   "cell_type": "code",
   "execution_count": 2,
   "id": "1e690e6f-3044-41aa-bfdd-e7c84b271f02",
   "metadata": {},
   "outputs": [
    {
     "name": "stdout",
     "output_type": "stream",
     "text": [
      "Car started 🚗\n",
      "Car stopped 🛑\n"
     ]
    }
   ],
   "source": [
    "from abc import ABC, abstractmethod\n",
    "\n",
    "# Abstract Class\n",
    "class Vehicle(ABC):\n",
    "    @abstractmethod\n",
    "    def start(self):\n",
    "        pass\n",
    "\n",
    "    @abstractmethod\n",
    "    def stop(self):\n",
    "        pass\n",
    "\n",
    "# Child Class\n",
    "class Car(Vehicle):\n",
    "    def start(self):\n",
    "        print(\"Car started \")\n",
    "\n",
    "    def stop(self):\n",
    "        print(\"Car stopped \")\n",
    "\n",
    "# Object Creation\n",
    "my_car = Car()\n",
    "my_car.start()\n",
    "my_car.stop()\n"
   ]
  },
  {
   "cell_type": "code",
   "execution_count": null,
   "id": "29f82398-25b7-45a2-97ee-c75cf6fcc6d3",
   "metadata": {},
   "outputs": [],
   "source": []
  }
 ],
 "metadata": {
  "kernelspec": {
   "display_name": "Python 3 (ipykernel)",
   "language": "python",
   "name": "python3"
  },
  "language_info": {
   "codemirror_mode": {
    "name": "ipython",
    "version": 3
   },
   "file_extension": ".py",
   "mimetype": "text/x-python",
   "name": "python",
   "nbconvert_exporter": "python",
   "pygments_lexer": "ipython3",
   "version": "3.13.5"
  }
 },
 "nbformat": 4,
 "nbformat_minor": 5
}
