{
 "cells": [
  {
   "cell_type": "code",
   "execution_count": 1,
   "id": "c7149737-5163-4799-9fe7-f01683b21176",
   "metadata": {},
   "outputs": [
    {
     "name": "stdout",
     "output_type": "stream",
     "text": [
      "🎬 Movie Dataset:\n",
      "              Action  Sci-Fi  Adventure  Superhero\n",
      "Movie                                             \n",
      "Inception          1       1          1          0\n",
      "Interstellar       1       1          1          0\n",
      "Tenet              1       1          1          0\n",
      "Avengers           1       0          1          1\n",
      "Iron Man           1       0          1          1\n"
     ]
    }
   ],
   "source": [
    "# Day 86 - Recommendation Systems\n",
    "\n",
    "import pandas as pd\n",
    "from sklearn.metrics.pairwise import cosine_similarity\n",
    "\n",
    "# ---------------- Sample Movie Dataset ----------------\n",
    "data = {\n",
    "    'Movie': ['Inception', 'Interstellar', 'Tenet', 'Avengers', 'Iron Man', 'Thor', 'The Dark Knight', 'Batman Begins'],\n",
    "    'Action': [1, 1, 1, 1, 1, 1, 1, 1],\n",
    "    'Sci-Fi': [1, 1, 1, 0, 0, 0, 0, 0],\n",
    "    'Adventure': [1, 1, 1, 1, 1, 1, 0, 0],\n",
    "    'Superhero': [0, 0, 0, 1, 1, 1, 1, 1],\n",
    "}\n",
    "\n",
    "df = pd.DataFrame(data)\n",
    "df.set_index('Movie', inplace=True)\n",
    "\n",
    "print(\"🎬 Movie Dataset:\")\n",
    "print(df.head())"
   ]
  },
  {
   "cell_type": "code",
   "execution_count": 2,
   "id": "5c3297f9-4d14-4c2c-88d5-d59b57473d04",
   "metadata": {},
   "outputs": [
    {
     "name": "stdout",
     "output_type": "stream",
     "text": [
      "\n",
      "---- Content-Based Filtering ----\n",
      "\n",
      "Recommended for 'Inception':\n",
      "Movie\n",
      "Interstellar    1.000000\n",
      "Tenet           1.000000\n",
      "Avengers        0.666667\n",
      "Name: Inception, dtype: float64\n"
     ]
    }
   ],
   "source": [
    "# ---------------- Content-Based Filtering ----------------\n",
    "print(\"\\n---- Content-Based Filtering ----\")\n",
    "\n",
    "# Compute cosine similarity between movies\n",
    "similarity_matrix = cosine_similarity(df)\n",
    "similarity_df = pd.DataFrame(similarity_matrix, index=df.index, columns=df.index)\n",
    "\n",
    "def recommend_content_based(movie_name, n=3):\n",
    "    similar_movies = similarity_df[movie_name].sort_values(ascending=False)[1:n+1]\n",
    "    return similar_movies\n",
    "\n",
    "# Example recommendation\n",
    "print(\"\\nRecommended for 'Inception':\")\n",
    "print(recommend_content_based('Inception'))"
   ]
  },
  {
   "cell_type": "code",
   "execution_count": 3,
   "id": "e2abed81-3544-431c-bedc-9a7e1a1d9519",
   "metadata": {},
   "outputs": [
    {
     "name": "stdout",
     "output_type": "stream",
     "text": [
      "\n",
      "---- Collaborative Filtering ----\n",
      "\n",
      "🎥 User Ratings:\n",
      "                 User1  User2  User3\n",
      "Movie                               \n",
      "Inception            5      4      2\n",
      "Interstellar         4      5      2\n",
      "Tenet                4      4      3\n",
      "Avengers             2      1      5\n",
      "Iron Man             1      2      5\n",
      "Thor                 1      2      4\n",
      "The Dark Knight      5      5      1\n",
      "Batman Begins        4      5      2\n"
     ]
    }
   ],
   "source": [
    "# ---------------- Collaborative Filtering ----------------\n",
    "print(\"\\n---- Collaborative Filtering ----\")\n",
    "\n",
    "# Simulated user ratings\n",
    "ratings = {\n",
    "    'User1': [5, 4, 4, 2, 1, 1, 5, 4],\n",
    "    'User2': [4, 5, 4, 1, 2, 2, 5, 5],\n",
    "    'User3': [2, 2, 3, 5, 5, 4, 1, 2],\n",
    "}\n",
    "ratings_df = pd.DataFrame(ratings, index=df.index)\n",
    "\n",
    "print(\"\\n🎥 User Ratings:\")\n",
    "print(ratings_df)"
   ]
  },
  {
   "cell_type": "code",
   "execution_count": 4,
   "id": "6cf1605c-7e54-4223-99bd-d41dd7555ad5",
   "metadata": {},
   "outputs": [
    {
     "name": "stdout",
     "output_type": "stream",
     "text": [
      "\n",
      "Recommended for 'User1':\n",
      "\n",
      "Top similar user for User1: User2\n",
      "Movie\n",
      "Interstellar       5\n",
      "Batman Begins      5\n",
      "The Dark Knight    5\n",
      "Name: User2, dtype: int64\n"
     ]
    }
   ],
   "source": [
    "# Compute user similarity\n",
    "user_similarity = cosine_similarity(ratings_df.T)\n",
    "user_similarity_df = pd.DataFrame(user_similarity, index=ratings_df.columns, columns=ratings_df.columns)\n",
    "\n",
    "def recommend_collaborative(user_name, n=3):\n",
    "    similar_users = user_similarity_df[user_name].sort_values(ascending=False)[1:]\n",
    "    similar_user = similar_users.index[0]\n",
    "    print(f\"\\nTop similar user for {user_name}: {similar_user}\")\n",
    "    \n",
    "    # Recommend top-rated movies from similar user not yet rated by current user\n",
    "    unrated_movies = ratings_df[ratings_df[user_name].isna()]\n",
    "    if unrated_movies.empty:\n",
    "        unrated_movies = ratings_df.copy()\n",
    "    recommended = ratings_df[similar_user].sort_values(ascending=False).head(n)\n",
    "    return recommended\n",
    "\n",
    "print(\"\\nRecommended for 'User1':\")\n",
    "print(recommend_collaborative('User1'))"
   ]
  },
  {
   "cell_type": "code",
   "execution_count": null,
   "id": "35eb367a-cca0-4667-904a-bed51bde7d02",
   "metadata": {},
   "outputs": [],
   "source": []
  }
 ],
 "metadata": {
  "kernelspec": {
   "display_name": "Python 3 (ipykernel)",
   "language": "python",
   "name": "python3"
  },
  "language_info": {
   "codemirror_mode": {
    "name": "ipython",
    "version": 3
   },
   "file_extension": ".py",
   "mimetype": "text/x-python",
   "name": "python",
   "nbconvert_exporter": "python",
   "pygments_lexer": "ipython3",
   "version": "3.13.7"
  }
 },
 "nbformat": 4,
 "nbformat_minor": 5
}
