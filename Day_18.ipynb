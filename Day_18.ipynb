{
 "cells": [
  {
   "cell_type": "code",
   "execution_count": 10,
   "id": "ac94a114-004d-4e19-9aec-5e74ea7fce90",
   "metadata": {},
   "outputs": [
    {
     "name": "stdout",
     "output_type": "stream",
     "text": [
      "Dog says: Woof!\n",
      "Cat says: Meow!\n",
      "Quack Quack\n",
      "Hello there!\n"
     ]
    }
   ],
   "source": [
    "# --- Polymorphism Example ---\n",
    "\n",
    "class Dog:\n",
    "    def sound(self):\n",
    "        print(\"Dog says: Woof!\")\n",
    "\n",
    "class Cat:\n",
    "    def sound(self):\n",
    "        print(\"Cat says: Meow!\")\n",
    "\n",
    "def make_sound(animal):\n",
    "    animal.sound()\n",
    "\n",
    "d = Dog()\n",
    "c = Cat()\n",
    "\n",
    "make_sound(d)\n",
    "make_sound(c)\n",
    "\n",
    "# --- Duck Typing ---\n",
    "class Duck:\n",
    "    def talk(self):\n",
    "        print(\"Quack Quack\")\n",
    "\n",
    "class Person:\n",
    "    def talk(self):\n",
    "        print(\"Hello there!\")\n",
    "\n",
    "def call_talk(obj):\n",
    "    obj.talk()\n",
    "\n",
    "call_talk(Duck())\n",
    "call_talk(Person())"
   ]
  },
  {
   "cell_type": "code",
   "execution_count": 9,
   "id": "ed8c37c3-39d7-4f98-822f-e37b8a1964b8",
   "metadata": {},
   "outputs": [
    {
     "name": "stdout",
     "output_type": "stream",
     "text": [
      "Balance: 1000\n",
      "Balance after deposit: 1500\n",
      "Invalid balance!\n",
      "Final Balance: 2000\n"
     ]
    }
   ],
   "source": [
    "# --- Encapsulation Example ---\n",
    "\n",
    "class BankAccount:\n",
    "    def __init__(self, name, balance):\n",
    "        self.name = name\n",
    "        self.__balance = balance  # private variable\n",
    "\n",
    "    def deposit(self, amount):\n",
    "        self.__balance += amount\n",
    "\n",
    "    def get_balance(self):\n",
    "        return self.__balance\n",
    "\n",
    "    def set_balance(self, amount):\n",
    "        if amount >= 0:\n",
    "            self.__balance = amount\n",
    "        else:\n",
    "            print(\"Invalid balance!\")\n",
    "\n",
    "acc = BankAccount(\"Aman\", 1000)\n",
    "print(\"Balance:\", acc.get_balance())\n",
    "acc.deposit(500)\n",
    "print(\"Balance after deposit:\", acc.get_balance())\n",
    "acc.set_balance(-200)  # Invalid\n",
    "acc.set_balance(2000)\n",
    "print(\"Final Balance:\", acc.get_balance())"
   ]
  }
 ],
 "metadata": {
  "kernelspec": {
   "display_name": "Python 3 (ipykernel)",
   "language": "python",
   "name": "python3"
  },
  "language_info": {
   "codemirror_mode": {
    "name": "ipython",
    "version": 3
   },
   "file_extension": ".py",
   "mimetype": "text/x-python",
   "name": "python",
   "nbconvert_exporter": "python",
   "pygments_lexer": "ipython3",
   "version": "3.13.5"
  }
 },
 "nbformat": 4,
 "nbformat_minor": 5
}
