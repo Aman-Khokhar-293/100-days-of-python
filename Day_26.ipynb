{
 "cells": [
  {
   "cell_type": "code",
   "execution_count": 1,
   "id": "64c6892a-6a52-49d8-b510-5ddbf244f564",
   "metadata": {},
   "outputs": [
    {
     "name": "stdout",
     "output_type": "stream",
     "text": [
      "Hello, Aman! Welcome to Python.\n"
     ]
    }
   ],
   "source": [
    "# --------------------------\n",
    "# Example 1: Nested Function\n",
    "# --------------------------\n",
    "def greet(name):\n",
    "    def message():\n",
    "        return f\"Hello, {name}! Welcome to Python.\"\n",
    "    return message()\n",
    "\n",
    "print(greet(\"Aman\"))"
   ]
  },
  {
   "cell_type": "code",
   "execution_count": 4,
   "id": "6a8b4387-b952-4932-95e4-6d5e5c34a7a6",
   "metadata": {},
   "outputs": [
    {
     "name": "stdout",
     "output_type": "stream",
     "text": [
      "10\n",
      "15\n"
     ]
    }
   ],
   "source": [
    "# --------------------------\n",
    "# Example 2: Closure - Multiplier Function\n",
    "# --------------------------\n",
    "def multiplier(factor):\n",
    "    def multiply(num):\n",
    "        return num * factor  # remembers 'factor'\n",
    "    return multiply\n",
    "\n",
    "double = multiplier(2)   # closure with factor=2\n",
    "triple = multiplier(3)   # closure with factor=3\n",
    "\n",
    "print(double(5))   \n",
    "print(triple(5))   "
   ]
  },
  {
   "cell_type": "code",
   "execution_count": 3,
   "id": "a7add4af-0000-4c5f-9a03-e11364fe0db6",
   "metadata": {},
   "outputs": [
    {
     "name": "stdout",
     "output_type": "stream",
     "text": [
      "32\n",
      "9\n"
     ]
    }
   ],
   "source": [
    "# --------------------------\n",
    "# Example 3: Function Factory with Closure\n",
    "# --------------------------\n",
    "def power(base):\n",
    "    def raise_to(exponent):\n",
    "        return base ** exponent\n",
    "    return raise_to\n",
    "\n",
    "square = power(2)\n",
    "cube = power(3)\n",
    "\n",
    "print(square(5))  \n",
    "print(cube(2))    "
   ]
  },
  {
   "cell_type": "code",
   "execution_count": null,
   "id": "6c11282d-4c64-472b-90b1-4a90fcb7c940",
   "metadata": {},
   "outputs": [],
   "source": []
  }
 ],
 "metadata": {
  "kernelspec": {
   "display_name": "Python 3 (ipykernel)",
   "language": "python",
   "name": "python3"
  },
  "language_info": {
   "codemirror_mode": {
    "name": "ipython",
    "version": 3
   },
   "file_extension": ".py",
   "mimetype": "text/x-python",
   "name": "python",
   "nbconvert_exporter": "python",
   "pygments_lexer": "ipython3",
   "version": "3.13.5"
  }
 },
 "nbformat": 4,
 "nbformat_minor": 5
}
