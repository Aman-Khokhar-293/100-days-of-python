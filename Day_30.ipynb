{
 "cells": [
  {
   "cell_type": "code",
   "execution_count": 55,
   "id": "7ad14014-322b-4003-83d2-00a6ada2f37b",
   "metadata": {},
   "outputs": [
    {
     "name": "stdin",
     "output_type": "stream",
     "text": [
      "Enter city name:  ahmedabad\n"
     ]
    },
    {
     "name": "stdout",
     "output_type": "stream",
     "text": [
      "City: Ahmedabad, IN\n",
      "Temp: 26.76°C\n",
      "Condition: Overcast Clouds\n",
      "Humidity: 90%\n",
      "Wind: 3.97 m/s\n"
     ]
    }
   ],
   "source": [
    "import requests\n",
    "\n",
    "API_KEY = \"your_api"  \n",
    "BASE_URL = \"http://api.openweathermap.org/data/2.5/weather\"\n",
    "\n",
    "city = input(\"Enter city name: \")\n",
    "\n",
    "params = {\n",
    "    \"q\": city,\n",
    "    \"appid\": API_KEY,\n",
    "    \"units\": \"metric\"\n",
    "}\n",
    "\n",
    "response = requests.get(BASE_URL, params=params).json()\n",
    "\n",
    "if response.get(\"cod\") != 200:\n",
    "    print(\"Error:\", response.get(\"message\"))\n",
    "else:\n",
    "    print(f\"City: {response['name']}, {response['sys']['country']}\")\n",
    "    print(f\"Temp: {response['main']['temp']}°C\")\n",
    "    print(f\"Condition: {response['weather'][0]['description'].title()}\")\n",
    "    print(f\"Humidity: {response['main']['humidity']}%\")\n",
    "    print(f\"Wind: {response['wind']['speed']} m/s\")"
   ]
  }
 ],
 "metadata": {
  "kernelspec": {
   "display_name": "Python 3 (ipykernel)",
   "language": "python",
   "name": "python3"
  },
  "language_info": {
   "codemirror_mode": {
    "name": "ipython",
    "version": 3
   },
   "file_extension": ".py",
   "mimetype": "text/x-python",
   "name": "python",
   "nbconvert_exporter": "python",
   "pygments_lexer": "ipython3",
   "version": "3.13.5"
  }
 },
 "nbformat": 4,
 "nbformat_minor": 5
}
