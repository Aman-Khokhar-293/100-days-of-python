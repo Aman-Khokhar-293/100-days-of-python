{
 "cells": [
  {
   "cell_type": "code",
   "execution_count": 9,
   "id": "64b0926e-a251-4d16-bc96-574e040ed43c",
   "metadata": {},
   "outputs": [
    {
     "name": "stdout",
     "output_type": "stream",
     "text": [
      "Hello, I am Aman and I am 21 years old.\n",
      "1000 deposited. New balance: 1000\n",
      "400 withdrawn. Balance: 600\n"
     ]
    }
   ],
   "source": [
    "# Basic OOP Example in Python\n",
    "\n",
    "# Class Creation\n",
    "class Student:\n",
    "    def __init__(self, name, age):\n",
    "        self.name = name      # attribute\n",
    "        self.age = age\n",
    "\n",
    "    def greet(self):\n",
    "        print(f\"Hello, I am {self.name} and I am {self.age} years old.\")\n",
    "\n",
    "# Object Creation\n",
    "s1 = Student(\"Aman\", 21)\n",
    "s1.greet()\n",
    "\n",
    "# Another Class Example – Bank Account\n",
    "class BankAccount:\n",
    "    def __init__(self, holder, balance=0):\n",
    "        self.holder = holder\n",
    "        self.balance = balance\n",
    "\n",
    "    def deposit(self, amount):\n",
    "        self.balance += amount\n",
    "        print(f\"{amount} deposited. New balance: {self.balance}\")\n",
    "\n",
    "    def withdraw(self, amount):\n",
    "        if amount > self.balance:\n",
    "            print(\"Insufficient balance!\")\n",
    "        else:\n",
    "            self.balance -= amount\n",
    "            print(f\"{amount} withdrawn. Balance: {self.balance}\")\n",
    "\n",
    "# Using the BankAccount class\n",
    "acc = BankAccount(\"Aman\")\n",
    "acc.deposit(1000)\n",
    "acc.withdraw(400)"
   ]
  }
 ],
 "metadata": {
  "kernelspec": {
   "display_name": "Python 3 (ipykernel)",
   "language": "python",
   "name": "python3"
  },
  "language_info": {
   "codemirror_mode": {
    "name": "ipython",
    "version": 3
   },
   "file_extension": ".py",
   "mimetype": "text/x-python",
   "name": "python",
   "nbconvert_exporter": "python",
   "pygments_lexer": "ipython3",
   "version": "3.13.5"
  }
 },
 "nbformat": 4,
 "nbformat_minor": 5
}
