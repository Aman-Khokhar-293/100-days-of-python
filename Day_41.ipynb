{
 "cells": [
  {
   "cell_type": "code",
   "execution_count": 1,
   "id": "02efc789-c86f-4a8d-822a-6979abf56cfe",
   "metadata": {},
   "outputs": [
    {
     "name": "stdout",
     "output_type": "stream",
     "text": [
      "Original Array: [ 1  2  3  4  5  6  7  8  9 10]\n",
      "Slice [2:6]: [3 4 5 6]\n",
      "Every 2nd element: [1 3 5 7 9]\n",
      "Reverse: [10  9  8  7  6  5  4  3  2  1]\n",
      "\n",
      "Matrix:\n",
      " [[ 1  2  3  4]\n",
      " [ 5  6  7  8]\n",
      " [ 9 10 11 12]]\n",
      "First 2 rows, col 1-3:\n",
      " [[2 3]\n",
      " [6 7]]\n",
      "Last row: [ 9 10 11 12]\n"
     ]
    }
   ],
   "source": [
    "import numpy as np\n",
    "\n",
    "# -----------------------------\n",
    "# 1. Slicing\n",
    "# -----------------------------\n",
    "arr = np.arange(1, 11)   # 1 to 10\n",
    "print(\"Original Array:\", arr)\n",
    "\n",
    "print(\"Slice [2:6]:\", arr[2:6])       # elements 3 to 6\n",
    "print(\"Every 2nd element:\", arr[::2]) # step slicing\n",
    "print(\"Reverse:\", arr[::-1])          # reverse array\n",
    "\n",
    "matrix = np.arange(1, 13).reshape(3, 4)\n",
    "print(\"\\nMatrix:\\n\", matrix)\n",
    "print(\"First 2 rows, col 1-3:\\n\", matrix[0:2, 1:3])\n",
    "print(\"Last row:\", matrix[-1])"
   ]
  },
  {
   "cell_type": "code",
   "execution_count": 2,
   "id": "19540c13-2b0a-4252-98d7-7439a4f570a3",
   "metadata": {},
   "outputs": [
    {
     "name": "stdout",
     "output_type": "stream",
     "text": [
      "\n",
      "Data:\n",
      " [[10 20 30]\n",
      " [40 50 60]]\n",
      "Add scalar 5:\n",
      " [[15 25 35]\n",
      " [45 55 65]]\n",
      "Multiply by [1, 2, 3]:\n",
      " [[ 10  40  90]\n",
      " [ 40 100 180]]\n"
     ]
    }
   ],
   "source": [
    "# -----------------------------\n",
    "# 2. Broadcasting\n",
    "# -----------------------------\n",
    "data = np.array([[10, 20, 30], [40, 50, 60]])\n",
    "print(\"\\nData:\\n\", data)\n",
    "\n",
    "print(\"Add scalar 5:\\n\", data + 5)\n",
    "print(\"Multiply by [1, 2, 3]:\\n\", data * np.array([1, 2, 3]))"
   ]
  },
  {
   "cell_type": "code",
   "execution_count": 3,
   "id": "56f6297e-ee55-489f-ab5d-434a634c77d8",
   "metadata": {},
   "outputs": [
    {
     "name": "stdout",
     "output_type": "stream",
     "text": [
      "\n",
      "Marks: [79 57 58 87 65 84 82 75 53 56 75 90 78 93 88]\n",
      "Mean: 74.66666666666667\n",
      "Median: 78.0\n",
      "Standard Deviation: 13.097921802925667\n",
      "Variance: 171.55555555555554\n",
      "90th Percentile: 89.2\n",
      "Max: 93 at index 13\n",
      "Min: 53 at index 8\n"
     ]
    }
   ],
   "source": [
    "# -----------------------------\n",
    "# 3. Statistics\n",
    "# -----------------------------\n",
    "stats_arr = np.random.randint(50, 101, size=15)  # marks dataset\n",
    "print(\"\\nMarks:\", stats_arr)\n",
    "\n",
    "print(\"Mean:\", np.mean(stats_arr))\n",
    "print(\"Median:\", np.median(stats_arr))\n",
    "print(\"Standard Deviation:\", np.std(stats_arr))\n",
    "print(\"Variance:\", np.var(stats_arr))\n",
    "print(\"90th Percentile:\", np.percentile(stats_arr, 90))\n",
    "print(\"Max:\", np.max(stats_arr), \"at index\", np.argmax(stats_arr))\n",
    "print(\"Min:\", np.min(stats_arr), \"at index\", np.argmin(stats_arr))\n"
   ]
  },
  {
   "cell_type": "code",
   "execution_count": null,
   "id": "e882af46-e745-4fee-8654-4a28c1d9f5f6",
   "metadata": {},
   "outputs": [],
   "source": []
  }
 ],
 "metadata": {
  "kernelspec": {
   "display_name": "Python 3 (ipykernel)",
   "language": "python",
   "name": "python3"
  },
  "language_info": {
   "codemirror_mode": {
    "name": "ipython",
    "version": 3
   },
   "file_extension": ".py",
   "mimetype": "text/x-python",
   "name": "python",
   "nbconvert_exporter": "python",
   "pygments_lexer": "ipython3",
   "version": "3.13.5"
  }
 },
 "nbformat": 4,
 "nbformat_minor": 5
}
