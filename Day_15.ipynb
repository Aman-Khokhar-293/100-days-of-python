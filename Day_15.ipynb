{
 "cells": [
  {
   "cell_type": "code",
   "execution_count": 1,
   "id": "23376bf9-8872-42d6-a0e4-3089e722464b",
   "metadata": {},
   "outputs": [
    {
     "name": "stdout",
     "output_type": "stream",
     "text": [
      "Square root of 16: 4.0\n"
     ]
    }
   ],
   "source": [
    "# MATH MODULE\n",
    "import math\n",
    "\n",
    "# Square Root\n",
    "print(\"Square root of 16:\", math.sqrt(16))"
   ]
  },
  {
   "cell_type": "code",
   "execution_count": 2,
   "id": "ae33e4ec-d3b1-4aa7-9664-cf3ea73a621b",
   "metadata": {},
   "outputs": [
    {
     "name": "stdout",
     "output_type": "stream",
     "text": [
      "2 raised to power 3: 8.0\n"
     ]
    }
   ],
   "source": [
    "# Power\n",
    "print(\"2 raised to power 3:\", math.pow(2, 3))"
   ]
  },
  {
   "cell_type": "code",
   "execution_count": 3,
   "id": "504dc562-d4c5-4bf1-adb0-81213f1c4731",
   "metadata": {},
   "outputs": [
    {
     "name": "stdout",
     "output_type": "stream",
     "text": [
      "Ceiling of 4.3: 5\n",
      "Floor of 4.7: 4\n"
     ]
    }
   ],
   "source": [
    "# Ceiling & Floor\n",
    "print(\"Ceiling of 4.3:\", math.ceil(4.3))\n",
    "print(\"Floor of 4.7:\", math.floor(4.7))"
   ]
  },
  {
   "cell_type": "code",
   "execution_count": 4,
   "id": "2ae36fe2-6b74-46b9-8c2a-5b34335596dd",
   "metadata": {},
   "outputs": [
    {
     "name": "stdout",
     "output_type": "stream",
     "text": [
      "Absolute value of -9.1: 9.1\n"
     ]
    }
   ],
   "source": [
    "# Absolute value\n",
    "print(\"Absolute value of -9.1:\", math.fabs(-9.1))"
   ]
  },
  {
   "cell_type": "code",
   "execution_count": 5,
   "id": "3a7cb246-9bdc-4109-bfcd-2e6a8d70374a",
   "metadata": {},
   "outputs": [
    {
     "name": "stdout",
     "output_type": "stream",
     "text": [
      "Factorial of 5: 120\n"
     ]
    }
   ],
   "source": [
    "# Factorial\n",
    "print(\"Factorial of 5:\", math.factorial(5))"
   ]
  },
  {
   "cell_type": "code",
   "execution_count": 6,
   "id": "8fca15a9-46dc-4432-adc4-4b9194354481",
   "metadata": {},
   "outputs": [
    {
     "name": "stdout",
     "output_type": "stream",
     "text": [
      "Log base e of 10: 2.302585092994046\n",
      "Log base 10 of 1000: 3.0\n"
     ]
    }
   ],
   "source": [
    "# Logarithm\n",
    "print(\"Log base e of 10:\", math.log(10))\n",
    "print(\"Log base 10 of 1000:\", math.log10(1000))"
   ]
  },
  {
   "cell_type": "code",
   "execution_count": 7,
   "id": "bee42e95-b447-4319-9ad6-7309412bd7f0",
   "metadata": {},
   "outputs": [
    {
     "name": "stdout",
     "output_type": "stream",
     "text": [
      "Sine of 90 degrees: 1.0\n",
      "Cosine of 0 degrees: 1.0\n"
     ]
    }
   ],
   "source": [
    "# Trigonometric functions\n",
    "print(\"Sine of 90 degrees:\", math.sin(math.radians(90)))\n",
    "print(\"Cosine of 0 degrees:\", math.cos(math.radians(0)))"
   ]
  },
  {
   "cell_type": "code",
   "execution_count": 8,
   "id": "fdc3f21a-3da1-471a-8e6a-5b4cbdc110b1",
   "metadata": {},
   "outputs": [
    {
     "name": "stdout",
     "output_type": "stream",
     "text": [
      "Value of pi: 3.141592653589793\n"
     ]
    }
   ],
   "source": [
    "# Constant pi\n",
    "print(\"Value of pi:\", math.pi)"
   ]
  },
  {
   "cell_type": "code",
   "execution_count": 10,
   "id": "15e8f604-6adf-496e-85f6-b28eb7bef539",
   "metadata": {},
   "outputs": [
    {
     "name": "stdout",
     "output_type": "stream",
     "text": [
      "\n",
      "Random float (0 to 1): 0.7442544641619386\n",
      "Random integer (1 to 100): 78\n",
      "Random float between 1.5 and 9.5: 6.3684333021001205\n",
      "Random color: Green\n",
      "Shuffled list: [1, 3, 5, 4, 2]\n",
      "Random number from range(10, 100, 5): 75\n"
     ]
    }
   ],
   "source": [
    "#  RANDOM MODULE\n",
    "import random\n",
    "\n",
    "# Random float between 0 and 1\n",
    "print(\"\\nRandom float (0 to 1):\", random.random())\n",
    "\n",
    "# Random integer between 1 and 100\n",
    "print(\"Random integer (1 to 100):\", random.randint(1, 100))\n",
    "\n",
    "# Random float in a range\n",
    "print(\"Random float between 1.5 and 9.5:\", random.uniform(1.5, 9.5))\n",
    "\n",
    "# Random choice from list\n",
    "colors = ['Red', 'Blue', 'Green', 'Yellow']\n",
    "print(\"Random color:\", random.choice(colors))\n",
    "\n",
    "# Shuffle a list\n",
    "numbers = [1, 2, 3, 4, 5]\n",
    "random.shuffle(numbers)\n",
    "print(\"Shuffled list:\", numbers)\n",
    "\n",
    "# Random element from range\n",
    "print(\"Random number from range(10, 100, 5):\", random.randrange(10, 100, 5))"
   ]
  },
  {
   "cell_type": "code",
   "execution_count": null,
   "id": "2847c30f-9d71-443a-bc60-f325c20b76df",
   "metadata": {},
   "outputs": [],
   "source": []
  }
 ],
 "metadata": {
  "kernelspec": {
   "display_name": "Python 3 (ipykernel)",
   "language": "python",
   "name": "python3"
  },
  "language_info": {
   "codemirror_mode": {
    "name": "ipython",
    "version": 3
   },
   "file_extension": ".py",
   "mimetype": "text/x-python",
   "name": "python",
   "nbconvert_exporter": "python",
   "pygments_lexer": "ipython3",
   "version": "3.13.5"
  }
 },
 "nbformat": 4,
 "nbformat_minor": 5
}
