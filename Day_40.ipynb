{
 "cells": [
  {
   "cell_type": "code",
   "execution_count": 1,
   "id": "05f4d0c0-b351-4599-8fec-7ec84984ac17",
   "metadata": {},
   "outputs": [
    {
     "name": "stdout",
     "output_type": "stream",
     "text": [
      "Array: [1 2 3 4 5]\n",
      "Arange: [ 1  2  3  4  5  6  7  8  9 10]\n",
      "Linspace: [0.   0.25 0.5  0.75 1.  ]\n"
     ]
    }
   ],
   "source": [
    "import numpy as np\n",
    "\n",
    "# -----------------------------\n",
    "# Array Creation\n",
    "# -----------------------------\n",
    "arr = np.array([1, 2, 3, 4, 5])\n",
    "print(\"Array:\", arr)\n",
    "\n",
    "arr2 = np.arange(1, 11)          # 1 to 10\n",
    "arr3 = np.linspace(0, 1, 5)      # 0 to 1 equally spaced\n",
    "print(\"Arange:\", arr2)\n",
    "print(\"Linspace:\", arr3)"
   ]
  },
  {
   "cell_type": "code",
   "execution_count": 2,
   "id": "5a924ae0-22ba-443f-b05d-6045f8bbc99e",
   "metadata": {},
   "outputs": [
    {
     "name": "stdout",
     "output_type": "stream",
     "text": [
      "\n",
      "Addition: [11 22 33 44]\n",
      "Subtraction: [ 9 18 27 36]\n",
      "Multiplication: [ 10  40  90 160]\n",
      "Division: [10. 10. 10. 10.]\n"
     ]
    }
   ],
   "source": [
    "\n",
    "# -----------------------------\n",
    "# Element-wise Operations\n",
    "# -----------------------------\n",
    "a = np.array([10, 20, 30, 40])\n",
    "b = np.array([1, 2, 3, 4])\n",
    "\n",
    "print(\"\\nAddition:\", a + b)\n",
    "print(\"Subtraction:\", a - b)\n",
    "print(\"Multiplication:\", a * b)\n",
    "print(\"Division:\", a / b)"
   ]
  },
  {
   "cell_type": "code",
   "execution_count": 3,
   "id": "a0581d60-b307-40ef-b3ba-85523cc9a974",
   "metadata": {},
   "outputs": [
    {
     "name": "stdout",
     "output_type": "stream",
     "text": [
      "\n",
      "Sum: 100\n",
      "Mean: 25.0\n",
      "Standard Deviation: 11.180339887498949\n",
      "Max: 40 at index 3\n"
     ]
    }
   ],
   "source": [
    "\n",
    "# -----------------------------\n",
    "# Aggregations\n",
    "# -----------------------------\n",
    "print(\"\\nSum:\", a.sum())\n",
    "print(\"Mean:\", a.mean())\n",
    "print(\"Standard Deviation:\", a.std())\n",
    "print(\"Max:\", a.max(), \"at index\", a.argmax())"
   ]
  },
  {
   "cell_type": "code",
   "execution_count": 8,
   "id": "6e4e6849-5b70-4c7e-aebb-428b2aa9f4a7",
   "metadata": {},
   "outputs": [
    {
     "name": "stdout",
     "output_type": "stream",
     "text": [
      "\n",
      "Sqrt: [1.         1.41421356 1.73205081]\n",
      "Exp: [ 2.71828183  7.3890561  20.08553692]\n",
      "Log: [0.         0.69314718 1.09861229]\n"
     ]
    }
   ],
   "source": [
    "\n",
    "# -----------------------------\n",
    "# Mathematical Functions\n",
    "# -----------------------------\n",
    "x = np.array([1, 2, 3])\n",
    "print(\"\\nSqrt:\", np.sqrt(x))\n",
    "print(\"Exp:\", np.exp(x))\n",
    "print(\"Log:\", np.log(x))"
   ]
  },
  {
   "cell_type": "code",
   "execution_count": 9,
   "id": "ecf44a8d-8665-4b9e-9b0d-65a289f61de0",
   "metadata": {},
   "outputs": [
    {
     "name": "stdout",
     "output_type": "stream",
     "text": [
      "\n",
      "Student Marks: [67 61 61 72 90 65 97 86 85 60]\n",
      "Average Marks: 74.4\n",
      "Highest Marks: 97\n",
      "Lowest Marks: 60\n"
     ]
    }
   ],
   "source": [
    "# -----------------------------\n",
    "# Mini Project – Student Marks\n",
    "# -----------------------------\n",
    "marks = np.random.randint(50, 101, size=10)\n",
    "print(\"\\nStudent Marks:\", marks)\n",
    "print(\"Average Marks:\", marks.mean())\n",
    "print(\"Highest Marks:\", marks.max())\n",
    "print(\"Lowest Marks:\", marks.min())"
   ]
  },
  {
   "cell_type": "code",
   "execution_count": 10,
   "id": "0db5282f-c5a6-4750-a698-4055d74fabee",
   "metadata": {},
   "outputs": [
    {
     "name": "stdout",
     "output_type": "stream",
     "text": [
      "\n",
      "Matrix:\n",
      " [[1 2]\n",
      " [3 4]]\n",
      "Transpose:\n",
      " [[1 3]\n",
      " [2 4]]\n",
      "Matrix Multiplication:\n",
      " [[ 7 10]\n",
      " [15 22]]\n"
     ]
    }
   ],
   "source": [
    "\n",
    "# -----------------------------\n",
    "# Mini Project – Matrix Operations\n",
    "# -----------------------------\n",
    "matrix = np.array([[1, 2], [3, 4]])\n",
    "print(\"\\nMatrix:\\n\", matrix)\n",
    "print(\"Transpose:\\n\", matrix.T)\n",
    "print(\"Matrix Multiplication:\\n\", np.dot(matrix, matrix))"
   ]
  },
  {
   "cell_type": "code",
   "execution_count": 11,
   "id": "e8070499-448c-4f59-b476-40e27398801d",
   "metadata": {},
   "outputs": [
    {
     "name": "stdout",
     "output_type": "stream",
     "text": [
      "\n",
      "Dice Rolls: [1 5 1 5 6 1 5 1 5 3 3 1 6 5 6 5 3 5 1 5]\n",
      "Frequency of Each Face: [6 0 3 0 8 3]\n"
     ]
    }
   ],
   "source": [
    "\n",
    "# -----------------------------\n",
    "# Mini Project – Dice Roll Simulation\n",
    "# -----------------------------\n",
    "dice_rolls = np.random.randint(1, 7, size=20)\n",
    "print(\"\\nDice Rolls:\", dice_rolls)\n",
    "print(\"Frequency of Each Face:\", np.bincount(dice_rolls)[1:])"
   ]
  },
  {
   "cell_type": "code",
   "execution_count": null,
   "id": "2ec9e6ba-32ba-4503-9cb0-24308bc99cf7",
   "metadata": {},
   "outputs": [],
   "source": []
  }
 ],
 "metadata": {
  "kernelspec": {
   "display_name": "Python 3 (ipykernel)",
   "language": "python",
   "name": "python3"
  },
  "language_info": {
   "codemirror_mode": {
    "name": "ipython",
    "version": 3
   },
   "file_extension": ".py",
   "mimetype": "text/x-python",
   "name": "python",
   "nbconvert_exporter": "python",
   "pygments_lexer": "ipython3",
   "version": "3.13.5"
  }
 },
 "nbformat": 4,
 "nbformat_minor": 5
}
