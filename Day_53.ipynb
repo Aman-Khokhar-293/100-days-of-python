{
 "cells": [
  {
   "cell_type": "code",
   "execution_count": 1,
   "id": "588daa76-079f-4c2c-afe7-d66ba4a5ac3e",
   "metadata": {},
   "outputs": [],
   "source": [
    "import numpy as np\n",
    "from sklearn.preprocessing import StandardScaler, MinMaxScaler\n",
    "\n",
    "# Sample dataset (Height in cm, Weight in kg)\n",
    "X = np.array([[180, 80],\n",
    "              [160, 55],\n",
    "              [170, 65],\n",
    "              [150, 50]])"
   ]
  },
  {
   "cell_type": "code",
   "execution_count": 2,
   "id": "622ce491-db51-420c-978f-2807c327ae81",
   "metadata": {},
   "outputs": [],
   "source": [
    "# Standardization (Z-score scaling)\n",
    "scaler_std = StandardScaler()\n",
    "X_std = scaler_std.fit_transform(X)"
   ]
  },
  {
   "cell_type": "code",
   "execution_count": 3,
   "id": "8a478263-e65c-4ea3-892a-11968be92145",
   "metadata": {},
   "outputs": [],
   "source": [
    "# Normalization (Min-Max scaling)\n",
    "scaler_mm = MinMaxScaler()\n",
    "X_mm = scaler_mm.fit_transform(X)"
   ]
  },
  {
   "cell_type": "code",
   "execution_count": 4,
   "id": "39ce04c8-8c38-45b0-93b6-07616147dea4",
   "metadata": {},
   "outputs": [
    {
     "name": "stdout",
     "output_type": "stream",
     "text": [
      "Original Data:\n",
      " [[180  80]\n",
      " [160  55]\n",
      " [170  65]\n",
      " [150  50]]\n",
      "\n",
      "After Standardization:\n",
      " [[ 1.34164079  1.52752523]\n",
      " [-0.4472136  -0.65465367]\n",
      " [ 0.4472136   0.21821789]\n",
      " [-1.34164079 -1.09108945]]\n",
      "\n",
      "After Normalization:\n",
      " [[1.         1.        ]\n",
      " [0.33333333 0.16666667]\n",
      " [0.66666667 0.5       ]\n",
      " [0.         0.        ]]\n"
     ]
    }
   ],
   "source": [
    "print(\"Original Data:\\n\", X)\n",
    "print(\"\\nAfter Standardization:\\n\", X_std)\n",
    "print(\"\\nAfter Normalization:\\n\", X_mm)"
   ]
  },
  {
   "cell_type": "code",
   "execution_count": null,
   "id": "832b712f-1ec5-4d05-bb33-b257edb9ed4c",
   "metadata": {},
   "outputs": [],
   "source": []
  }
 ],
 "metadata": {
  "kernelspec": {
   "display_name": "Python 3 (ipykernel)",
   "language": "python",
   "name": "python3"
  },
  "language_info": {
   "codemirror_mode": {
    "name": "ipython",
    "version": 3
   },
   "file_extension": ".py",
   "mimetype": "text/x-python",
   "name": "python",
   "nbconvert_exporter": "python",
   "pygments_lexer": "ipython3",
   "version": "3.13.5"
  }
 },
 "nbformat": 4,
 "nbformat_minor": 5
}
