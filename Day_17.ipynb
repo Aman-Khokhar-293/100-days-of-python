{
  "nbformat": 4,
  "nbformat_minor": 0,
  "metadata": {
    "colab": {
      "provenance": [],
      "authorship_tag": "ABX9TyNQ9xKFT8jWjxO2E+wQeFLs",
      "include_colab_link": true
    },
    "kernelspec": {
      "name": "python3",
      "display_name": "Python 3"
    },
    "language_info": {
      "name": "python"
    }
  },
  "cells": [
    {
      "cell_type": "markdown",
      "metadata": {
        "id": "view-in-github",
        "colab_type": "text"
      },
      "source": [
        "<a href=\"https://colab.research.google.com/github/Aman-Khokhar-293/100-days-of-python/blob/main/Day_17.ipynb\" target=\"_parent\"><img src=\"https://colab.research.google.com/assets/colab-badge.svg\" alt=\"Open In Colab\"/></a>"
      ]
    },
    {
      "cell_type": "code",
      "source": [
        "# --- Constructor & Inheritance Example ---\n",
        "\n",
        "# Parent Class\n",
        "class Vehicle:\n",
        "    def __init__(self, brand, wheels):\n",
        "        self.brand = brand\n",
        "        self.wheels = wheels\n",
        "\n",
        "    def info(self):\n",
        "        print(f\"Brand: {self.brand}, Wheels: {self.wheels}\")\n",
        "\n",
        "# Child Class inheriting from Vehicle\n",
        "class Car(Vehicle):\n",
        "    def __init__(self, brand, wheels, fuel):\n",
        "        super().__init__(brand, wheels)  # Calling parent constructor\n",
        "        self.fuel = fuel\n",
        "\n",
        "    def info(self):  # Method Overriding\n",
        "        super().info()\n",
        "        print(f\"Fuel Type: {self.fuel}\")\n",
        "\n",
        "# Creating object\n",
        "c1 = Car(\"BMW\", 4, \"Petrol\")\n",
        "c1.info()"
      ],
      "metadata": {
        "colab": {
          "base_uri": "https://localhost:8080/"
        },
        "id": "oiobzbh8udY4",
        "outputId": "cbea3707-79d8-4df5-e59a-ab1676e0aafe"
      },
      "execution_count": 3,
      "outputs": [
        {
          "output_type": "stream",
          "name": "stdout",
          "text": [
            "Brand: BMW, Wheels: 4\n",
            "Fuel Type: Petrol\n"
          ]
        }
      ]
    },
    {
      "cell_type": "code",
      "execution_count": 1,
      "metadata": {
        "colab": {
          "base_uri": "https://localhost:8080/"
        },
        "id": "NjK0LfBZuIFF",
        "outputId": "da22e8a2-d3a0-46e3-ee8e-e8556068aa70"
      },
      "outputs": [
        {
          "output_type": "stream",
          "name": "stdout",
          "text": [
            "Aman is working...\n",
            "Ravi is managing team...\n",
            "True\n",
            "True\n"
          ]
        }
      ],
      "source": [
        "# --- Another Example: Employee & Manager ---\n",
        "\n",
        "class Employee:\n",
        "    def __init__(self, name):\n",
        "        self.name = name\n",
        "\n",
        "    def work(self):\n",
        "        print(f\"{self.name} is working...\")\n",
        "\n",
        "class Manager(Employee):\n",
        "    def work(self):  # Overriding\n",
        "        print(f\"{self.name} is managing team...\")\n",
        "\n",
        "e1 = Employee(\"Aman\")\n",
        "m1 = Manager(\"Ravi\")\n",
        "\n",
        "e1.work()\n",
        "m1.work()\n",
        "\n",
        "# Checking inheritance\n",
        "print(isinstance(m1, Employee))\n",
        "print(issubclass(Manager, Employee))"
      ]
    }
  ]
}