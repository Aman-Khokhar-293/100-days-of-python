{
 "cells": [
  {
   "cell_type": "code",
   "execution_count": 17,
   "id": "4e384c4b-db8a-4f00-b9d5-93cc23937dec",
   "metadata": {},
   "outputs": [
    {
     "name": "stdout",
     "output_type": "stream",
     "text": [
      "Current date and time: 2025-08-04 19:04:29.736804\n",
      "Year: 2025\n",
      "Month: 8\n",
      "Day: 4\n",
      "Hour: 19\n",
      "Minute: 12\n",
      "Days left until New Year: 149\n"
     ]
    }
   ],
   "source": [
    "from datetime import datetime, timedelta\n",
    "\n",
    "# Get current date and time\n",
    "n = datetime.now()\n",
    "print(\"Current date and time:\", now)\n",
    "print(\"Year:\", n.year)\n",
    "print(\"Month:\", n.month)\n",
    "print(\"Day:\", n.day)\n",
    "print(\"Hour:\", n.hour)\n",
    "print(\"Minute:\", n.minute)\n",
    "\n",
    "# Define the next New Year date\n",
    "next_year = n.year + 1\n",
    "new_year = datetime(next_year, 1, 1)\n",
    "\n",
    "# Calculate days left\n",
    "days_left = (new_year - n).days\n",
    "print(f\"Days left until New Year: {days_left}\")"
   ]
  },
  {
   "cell_type": "code",
   "execution_count": 12,
   "id": "43088d1a-a020-42a7-99f1-e3309d7156d6",
   "metadata": {},
   "outputs": [
    {
     "name": "stdout",
     "output_type": "stream",
     "text": [
      "2025-08-04 19:04:29.736804\n"
     ]
    }
   ],
   "source": [
    "now = datetime.now()\n",
    "print(now)"
   ]
  },
  {
   "cell_type": "code",
   "execution_count": 5,
   "id": "8101f674-17fc-4c48-81f6-90c968fea88c",
   "metadata": {},
   "outputs": [
    {
     "name": "stdout",
     "output_type": "stream",
     "text": [
      "2025 8 4\n"
     ]
    }
   ],
   "source": [
    "print(now.year, now.month, now.day)"
   ]
  },
  {
   "cell_type": "code",
   "execution_count": 13,
   "id": "0055bf61-6791-40ad-bd58-57101ee821bf",
   "metadata": {},
   "outputs": [],
   "source": [
    "yesterday = now - timedelta(days=1)\n",
    "tomorrow = now + timedelta(days=1)"
   ]
  },
  {
   "cell_type": "code",
   "execution_count": 7,
   "id": "222b2fe1-91fc-48b7-9038-81e31163948a",
   "metadata": {},
   "outputs": [
    {
     "name": "stdout",
     "output_type": "stream",
     "text": [
      "Monday, 04 August 2025 - 06:46 PM\n"
     ]
    }
   ],
   "source": [
    "print(now.strftime(\"%A, %d %B %Y - %I:%M %p\"))"
   ]
  },
  {
   "cell_type": "code",
   "execution_count": null,
   "id": "e1a0daf9-1795-4fc3-beb9-f63c87d6f88f",
   "metadata": {},
   "outputs": [],
   "source": []
  }
 ],
 "metadata": {
  "kernelspec": {
   "display_name": "Python 3 (ipykernel)",
   "language": "python",
   "name": "python3"
  },
  "language_info": {
   "codemirror_mode": {
    "name": "ipython",
    "version": 3
   },
   "file_extension": ".py",
   "mimetype": "text/x-python",
   "name": "python",
   "nbconvert_exporter": "python",
   "pygments_lexer": "ipython3",
   "version": "3.13.5"
  }
 },
 "nbformat": 4,
 "nbformat_minor": 5
}
