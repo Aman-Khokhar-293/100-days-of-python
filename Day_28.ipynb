{
 "cells": [
  {
   "cell_type": "code",
   "execution_count": 7,
   "id": "36beef94-fa9e-4058-9c7b-6287a6fa694d",
   "metadata": {},
   "outputs": [],
   "source": [
    "# Day 28 - Web Scraping with BeautifulSoup\n",
    "\n",
    "import requests\n",
    "from bs4 import BeautifulSoup\n",
    "\n",
    "# URL of website to scrape\n",
    "url = \"http://quotes.toscrape.com/\"\n",
    "\n",
    "# Send HTTP request\n",
    "response = requests.get(url)\n",
    "\n",
    "# Parse HTML using BeautifulSoup\n",
    "soup = BeautifulSoup(response.text, \"html.parser\")\n",
    "\n",
    "# Extract all quotes with authors and tags\n",
    "quotes = soup.find_all(\"span\", class_=\"text\")\n",
    "authors = soup.find_all(\"small\", class_=\"author\")\n",
    "tags = soup.find_all(\"div\", class_=\"tags\")"
   ]
  },
  {
   "cell_type": "code",
   "execution_count": 10,
   "id": "9c35ff0b-d9c6-4628-9705-cdb90f2300a7",
   "metadata": {},
   "outputs": [
    {
     "name": "stdout",
     "output_type": "stream",
     "text": [
      "Quote: “The world as we have created it is a process of our thinking. It cannot be changed without changing our thinking.”\n",
      "Author: Albert Einstein\n",
      "Tags: change, deep-thoughts, thinking, world\n",
      "--------------------------------------------------------------------------------\n",
      "Quote: “It is our choices, Harry, that show what we truly are, far more than our abilities.”\n",
      "Author: J.K. Rowling\n",
      "Tags: abilities, choices\n",
      "--------------------------------------------------------------------------------\n",
      "Quote: “There are only two ways to live your life. One is as though nothing is a miracle. The other is as though everything is a miracle.”\n",
      "Author: Albert Einstein\n",
      "Tags: inspirational, life, live, miracle, miracles\n",
      "--------------------------------------------------------------------------------\n",
      "Quote: “The person, be it gentleman or lady, who has not pleasure in a good novel, must be intolerably stupid.”\n",
      "Author: Jane Austen\n",
      "Tags: aliteracy, books, classic, humor\n",
      "--------------------------------------------------------------------------------\n",
      "Quote: “Imperfection is beauty, madness is genius and it's better to be absolutely ridiculous than absolutely boring.”\n",
      "Author: Marilyn Monroe\n",
      "Tags: be-yourself, inspirational\n",
      "--------------------------------------------------------------------------------\n",
      "Quote: “Try not to become a man of success. Rather become a man of value.”\n",
      "Author: Albert Einstein\n",
      "Tags: adulthood, success, value\n",
      "--------------------------------------------------------------------------------\n",
      "Quote: “It is better to be hated for what you are than to be loved for what you are not.”\n",
      "Author: André Gide\n",
      "Tags: life, love\n",
      "--------------------------------------------------------------------------------\n",
      "Quote: “I have not failed. I've just found 10,000 ways that won't work.”\n",
      "Author: Thomas A. Edison\n",
      "Tags: edison, failure, inspirational, paraphrased\n",
      "--------------------------------------------------------------------------------\n",
      "Quote: “A woman is like a tea bag; you never know how strong it is until it's in hot water.”\n",
      "Author: Eleanor Roosevelt\n",
      "Tags: misattributed-eleanor-roosevelt\n",
      "--------------------------------------------------------------------------------\n",
      "Quote: “A day without sunshine is like, you know, night.”\n",
      "Author: Steve Martin\n",
      "Tags: humor, obvious, simile\n",
      "--------------------------------------------------------------------------------\n"
     ]
    }
   ],
   "source": [
    "# Display results\n",
    "for i in range(len(quotes)):\n",
    "    quote = quotes[i].get_text()\n",
    "    author = authors[i].get_text()\n",
    "    tag_list = [tag.get_text() for tag in tags[i].find_all(\"a\", class_=\"tag\")]\n",
    "\n",
    "    print(f\"Quote: {quote}\")\n",
    "    print(f\"Author: {author}\")\n",
    "    print(f\"Tags: {', '.join(tag_list)}\")\n",
    "    print(\"-\" * 80)"
   ]
  }
 ],
 "metadata": {
  "kernelspec": {
   "display_name": "Python 3 (ipykernel)",
   "language": "python",
   "name": "python3"
  },
  "language_info": {
   "codemirror_mode": {
    "name": "ipython",
    "version": 3
   },
   "file_extension": ".py",
   "mimetype": "text/x-python",
   "name": "python",
   "nbconvert_exporter": "python",
   "pygments_lexer": "ipython3",
   "version": "3.13.5"
  }
 },
 "nbformat": 4,
 "nbformat_minor": 5
}
