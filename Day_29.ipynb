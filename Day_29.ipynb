{
 "cells": [
  {
   "cell_type": "code",
   "execution_count": 3,
   "id": "2e5513c4-f0e6-4a1a-a516-62a7e84124f6",
   "metadata": {},
   "outputs": [
    {
     "name": "stdout",
     "output_type": "stream",
     "text": [
      "        Location  Population % of world         Date  \\\n",
      "0          World  8232000000       100%  13 Jun 2025   \n",
      "1          India  1417492000      17.3%   1 Jul 2025   \n",
      "2          China  1408280000      17.2%  31 Dec 2024   \n",
      "3  United States   340110988       4.2%   1 Jul 2024   \n",
      "4      Indonesia   284438782       3.5%  30 Jun 2025   \n",
      "\n",
      "  Source (official or from the United Nations) Notes  \n",
      "0                          UN projection[1][3]   NaN  \n",
      "1                       Official projection[4]   [b]  \n",
      "2                         Official estimate[5]   [c]  \n",
      "3                         Official estimate[6]   [d]  \n",
      "4                National annual projection[7]   NaN  \n",
      "Table scraped and saved as 'countries_population.csv'\n"
     ]
    },
    {
     "name": "stderr",
     "output_type": "stream",
     "text": [
      "C:\\Users\\AMAN\\AppData\\Local\\Temp\\ipykernel_10536\\191258079.py:13: FutureWarning: Passing literal html to 'read_html' is deprecated and will be removed in a future version. To read from a literal string, wrap it in a 'StringIO' object.\n",
      "  tables = pd.read_html(response.text)\n"
     ]
    }
   ],
   "source": [
    "# Day 29 - Web Scraping with requests and pandas\n",
    "\n",
    "import requests\n",
    "import pandas as pd\n",
    "\n",
    "# Target URL (example: Wikipedia table of countries by population)\n",
    "url = \"https://en.wikipedia.org/wiki/List_of_countries_and_dependencies_by_population\"\n",
    "\n",
    "# Send HTTP request\n",
    "response = requests.get(url)\n",
    "\n",
    "# Use pandas to directly extract tables from HTML\n",
    "tables = pd.read_html(response.text)\n",
    "\n",
    "# Select the first table\n",
    "df = tables[0]\n",
    "\n",
    "# Display first 5 rows\n",
    "print(df.head())\n",
    "\n",
    "# Save to CSV file\n",
    "df.to_csv(\"countries_population.csv\", index=False)\n",
    "\n",
    "print(\"Table scraped and saved as 'countries_population.csv'\")\n"
   ]
  },
  {
   "cell_type": "code",
   "execution_count": null,
   "id": "7e33b971-b974-41f1-bfa5-8c4e90cb7373",
   "metadata": {},
   "outputs": [],
   "source": []
  }
 ],
 "metadata": {
  "kernelspec": {
   "display_name": "Python 3 (ipykernel)",
   "language": "python",
   "name": "python3"
  },
  "language_info": {
   "codemirror_mode": {
    "name": "ipython",
    "version": 3
   },
   "file_extension": ".py",
   "mimetype": "text/x-python",
   "name": "python",
   "nbconvert_exporter": "python",
   "pygments_lexer": "ipython3",
   "version": "3.13.5"
  }
 },
 "nbformat": 4,
 "nbformat_minor": 5
}
