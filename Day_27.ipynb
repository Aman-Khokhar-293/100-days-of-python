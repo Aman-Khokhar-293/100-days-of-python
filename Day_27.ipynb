{
 "cells": [
  {
   "cell_type": "code",
   "execution_count": 7,
   "id": "13dcb96a-436b-412d-8787-99491687e336",
   "metadata": {},
   "outputs": [
    {
     "name": "stdout",
     "output_type": "stream",
     "text": [
      "True\n",
      "False\n"
     ]
    }
   ],
   "source": [
    "import re\n",
    "\n",
    "# --------------------------\n",
    "# Example 1: Validate Email\n",
    "# --------------------------\n",
    "def validate_email(email):\n",
    "    pattern = r'^[\\w\\.-]+@[\\w\\.-]+\\.\\w+$'\n",
    "    return bool(re.match(pattern, email))\n",
    "\n",
    "print(validate_email(\"aman@example.com\"))\n",
    "print(validate_email(\"wrong-email@com\"))   "
   ]
  },
  {
   "cell_type": "code",
   "execution_count": 6,
   "id": "e2aa8446-3901-4bb5-af23-24906d548ec7",
   "metadata": {},
   "outputs": [
    {
     "name": "stdout",
     "output_type": "stream",
     "text": [
      "True\n",
      "False\n"
     ]
    }
   ],
   "source": [
    "# --------------------------\n",
    "# Example 2: Validate Phone Number (10 digits)\n",
    "# --------------------------\n",
    "def validate_phone(phone):\n",
    "    pattern = r'^\\d{10}$'\n",
    "    return bool(re.match(pattern, phone))\n",
    "\n",
    "print(validate_phone(\"9876543210\"))  \n",
    "print(validate_phone(\"12345\"))       "
   ]
  },
  {
   "cell_type": "code",
   "execution_count": 8,
   "id": "3947ba49-6675-41f6-87c1-5ac627bff4ce",
   "metadata": {},
   "outputs": [
    {
     "name": "stdout",
     "output_type": "stream",
     "text": [
      "Extracted Hashtags: ['#Python', '#100DaysOfCode', '#fun']\n"
     ]
    }
   ],
   "source": [
    "# --------------------------\n",
    "# Example 3: Extract Hashtags\n",
    "# --------------------------\n",
    "text = \"Learning #Python with #100DaysOfCode is #fun!\"\n",
    "hashtags = re.findall(r'#\\w+', text)\n",
    "print(\"Extracted Hashtags:\", hashtags)"
   ]
  },
  {
   "cell_type": "code",
   "execution_count": 9,
   "id": "e4148741-9e98-48ae-a424-c0e89b50e2d0",
   "metadata": {},
   "outputs": [
    {
     "name": "stdout",
     "output_type": "stream",
     "text": [
      "Cleaned Sentence: This is a *** and *** example.\n"
     ]
    }
   ],
   "source": [
    "# --------------------------\n",
    "# Example 4: Replace Bad Words\n",
    "# --------------------------\n",
    "sentence = \"This is a bad and ugly example.\"\n",
    "cleaned = re.sub(r'\\b(bad|ugly)\\b', \"***\", sentence)\n",
    "print(\"Cleaned Sentence:\", cleaned)"
   ]
  },
  {
   "cell_type": "code",
   "execution_count": 11,
   "id": "c7936c58-d65e-4f0a-80c4-b62671c36f0f",
   "metadata": {},
   "outputs": [
    {
     "name": "stdout",
     "output_type": "stream",
     "text": [
      "Numbers: ['85', '90', '100']\n"
     ]
    }
   ],
   "source": [
    "# --------------------------\n",
    "# Example 5: Find all numbers\n",
    "# --------------------------\n",
    "sample = \"My scores are 85, 90 and 100.\"\n",
    "numbers = re.findall(r'\\d+', sample)\n",
    "print(\"Numbers:\", numbers)"
   ]
  },
  {
   "cell_type": "code",
   "execution_count": null,
   "id": "b28d31c0-10ff-496a-90a6-82e9f392421e",
   "metadata": {},
   "outputs": [],
   "source": []
  }
 ],
 "metadata": {
  "kernelspec": {
   "display_name": "Python 3 (ipykernel)",
   "language": "python",
   "name": "python3"
  },
  "language_info": {
   "codemirror_mode": {
    "name": "ipython",
    "version": 3
   },
   "file_extension": ".py",
   "mimetype": "text/x-python",
   "name": "python",
   "nbconvert_exporter": "python",
   "pygments_lexer": "ipython3",
   "version": "3.13.5"
  }
 },
 "nbformat": 4,
 "nbformat_minor": 5
}
