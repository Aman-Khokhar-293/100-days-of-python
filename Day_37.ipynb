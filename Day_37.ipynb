{
 "cells": [
  {
   "cell_type": "code",
   "execution_count": 1,
   "id": "9a12ab5c-404b-429c-9e49-1fc6da926439",
   "metadata": {},
   "outputs": [
    {
     "name": "stdout",
     "output_type": "stream",
     "text": [
      " Student Marks (Series):\n",
      " Aman      85\n",
      "Rahul     90\n",
      "Hemang    78\n",
      "Krish     92\n",
      "Karan     88\n",
      "dtype: int64\n"
     ]
    }
   ],
   "source": [
    "import pandas as pd\n",
    "\n",
    "# ---- Series Example ----\n",
    "# Creating a Pandas Series from a list\n",
    "marks = [85, 90, 78, 92, 88]\n",
    "students = [\"Aman\", \"Rahul\", \"Hemang\", \"Krish\", \"Karan\"]\n",
    "\n",
    "marks_series = pd.Series(marks, index=students)\n",
    "print(\" Student Marks (Series):\\n\", marks_series)"
   ]
  },
  {
   "cell_type": "code",
   "execution_count": 2,
   "id": "d515770f-397c-4068-ad44-c85b3fed4d22",
   "metadata": {},
   "outputs": [],
   "source": [
    "# ---- DataFrame Example ----\n",
    "# Creating a DataFrame from a dictionary\n",
    "data = {\n",
    "    \"Name\": [\"Aman\", \"Rahul\", \"Hemang\", \"Krish\", \"Karan\"],\n",
    "    \"Maths\": [85, 90, 78, 92, 88],\n",
    "    \"Science\": [80, 85, 75, 95, 82],\n",
    "    \"English\": [78, 88, 82, 90, 85]\n",
    "}"
   ]
  },
  {
   "cell_type": "code",
   "execution_count": 3,
   "id": "661cfe2b-b82e-4780-88a5-80d9ad5b01d6",
   "metadata": {},
   "outputs": [
    {
     "name": "stdout",
     "output_type": "stream",
     "text": [
      "\n",
      "Student Marks DataFrame:\n",
      "      Name  Maths  Science  English\n",
      "0    Aman     85       80       78\n",
      "1   Rahul     90       85       88\n",
      "2  Hemang     78       75       82\n",
      "3   Krish     92       95       90\n",
      "4   Karan     88       82       85\n"
     ]
    }
   ],
   "source": [
    "df = pd.DataFrame(data)\n",
    "print(\"\\nStudent Marks DataFrame:\\n\", df)"
   ]
  },
  {
   "cell_type": "code",
   "execution_count": 4,
   "id": "1ab97249-684f-4b5f-87a6-b833768056da",
   "metadata": {},
   "outputs": [
    {
     "name": "stdout",
     "output_type": "stream",
     "text": [
      "\n",
      "Maths Marks:\n",
      " 0    85\n",
      "1    90\n",
      "2    78\n",
      "3    92\n",
      "4    88\n",
      "Name: Maths, dtype: int64\n"
     ]
    }
   ],
   "source": [
    "# Fetching specific column\n",
    "print(\"\\nMaths Marks:\\n\", df[\"Maths\"])\n"
   ]
  },
  {
   "cell_type": "code",
   "execution_count": 5,
   "id": "fca5fce6-c53c-4223-b18a-353f490e0beb",
   "metadata": {},
   "outputs": [
    {
     "name": "stdout",
     "output_type": "stream",
     "text": [
      "\n",
      " Students with Science > 85:\n",
      "     Name  Maths  Science  English\n",
      "3  Krish     92       95       90\n"
     ]
    }
   ],
   "source": [
    "# Filtering rows (students scoring >85 in Science)\n",
    "print(\"\\n Students with Science > 85:\\n\", df[df[\"Science\"] > 85])"
   ]
  },
  {
   "cell_type": "code",
   "execution_count": 6,
   "id": "37bf4081-0cdc-4b80-89a7-22952a105841",
   "metadata": {},
   "outputs": [
    {
     "name": "stdout",
     "output_type": "stream",
     "text": [
      "\n",
      " Summary Statistics:\n",
      "            Maths    Science    English\n",
      "count   5.000000   5.000000   5.000000\n",
      "mean   86.600000  83.400000  84.600000\n",
      "std     5.458938   7.436397   4.774935\n",
      "min    78.000000  75.000000  78.000000\n",
      "25%    85.000000  80.000000  82.000000\n",
      "50%    88.000000  82.000000  85.000000\n",
      "75%    90.000000  85.000000  88.000000\n",
      "max    92.000000  95.000000  90.000000\n"
     ]
    }
   ],
   "source": [
    "# Summary statistics\n",
    "print(\"\\n Summary Statistics:\\n\", df.describe())"
   ]
  },
  {
   "cell_type": "code",
   "execution_count": null,
   "id": "be702cb4-6267-4176-85b0-826c45086a43",
   "metadata": {},
   "outputs": [],
   "source": []
  }
 ],
 "metadata": {
  "kernelspec": {
   "display_name": "Python 3 (ipykernel)",
   "language": "python",
   "name": "python3"
  },
  "language_info": {
   "codemirror_mode": {
    "name": "ipython",
    "version": 3
   },
   "file_extension": ".py",
   "mimetype": "text/x-python",
   "name": "python",
   "nbconvert_exporter": "python",
   "pygments_lexer": "ipython3",
   "version": "3.13.5"
  }
 },
 "nbformat": 4,
 "nbformat_minor": 5
}
