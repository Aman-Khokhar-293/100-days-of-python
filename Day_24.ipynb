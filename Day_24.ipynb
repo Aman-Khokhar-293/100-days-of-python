{
 "cells": [
  {
   "cell_type": "code",
   "execution_count": 6,
   "id": "e0b825f0-7478-4f06-a368-65f09401bbd0",
   "metadata": {},
   "outputs": [
    {
     "name": "stdout",
     "output_type": "stream",
     "text": [
      "1\n",
      "2\n",
      "3\n",
      "4\n"
     ]
    }
   ],
   "source": [
    "# Day 24 - Python Iterators & Generators\n",
    "\n",
    "# ---------------------------\n",
    "# ITERATORS\n",
    "# ---------------------------\n",
    "\n",
    "# Simple iterator example\n",
    "my_list = [1, 2, 3, 4]\n",
    "my_iter = iter(my_list)  \n",
    "\n",
    "print(next(my_iter)) \n",
    "print(next(my_iter))  \n",
    "print(next(my_iter)) \n",
    "print(next(my_iter))  "
   ]
  },
  {
   "cell_type": "code",
   "execution_count": 7,
   "id": "d0cdc171-3006-490a-a6ca-6595ff0aea49",
   "metadata": {},
   "outputs": [
    {
     "name": "stdout",
     "output_type": "stream",
     "text": [
      "\n",
      "Custom Iterator (Even Numbers):\n",
      "2 4 6 8 10 "
     ]
    }
   ],
   "source": [
    "# ---------------------------\n",
    "# Custom Iterator Class: Even Numbers\n",
    "# ---------------------------\n",
    "class EvenNumbers:\n",
    "    def __init__(self, limit):\n",
    "        self.limit = limit\n",
    "        self.num = 0\n",
    "\n",
    "    def __iter__(self):\n",
    "        return self\n",
    "\n",
    "    def __next__(self):\n",
    "        self.num += 2\n",
    "        if self.num <= self.limit:\n",
    "            return self.num\n",
    "        else:\n",
    "            raise StopIteration\n",
    "\n",
    "print(\"\\nCustom Iterator (Even Numbers):\")\n",
    "for even in EvenNumbers(10):\n",
    "    print(even, end=\" \")  "
   ]
  },
  {
   "cell_type": "code",
   "execution_count": 11,
   "id": "31e294de-8946-4015-a6bf-48e8606f921a",
   "metadata": {},
   "outputs": [
    {
     "name": "stdout",
     "output_type": "stream",
     "text": [
      "\n",
      "\n",
      "Simple Generator Output:\n",
      "1\n",
      "2\n",
      "3\n"
     ]
    }
   ],
   "source": [
    "# ---------------------------\n",
    "# GENERATORS\n",
    "# ---------------------------\n",
    "\n",
    "# Simple generator example\n",
    "def my_generator():\n",
    "    yield 1\n",
    "    yield 2\n",
    "    yield 3\n",
    "\n",
    "print(\"\\n\\nSimple Generator Output:\")\n",
    "for val in my_generator():\n",
    "    print(val)"
   ]
  },
  {
   "cell_type": "code",
   "execution_count": 9,
   "id": "8be03f75-6409-451d-82ea-05744ab95ff1",
   "metadata": {},
   "outputs": [
    {
     "name": "stdout",
     "output_type": "stream",
     "text": [
      "\n",
      "Fibonacci Series using Generator:\n",
      "0 1 1 2 3 5 8 13 21 34 "
     ]
    }
   ],
   "source": [
    "# ---------------------------\n",
    "# Fibonacci Generator (Mini Project)\n",
    "# ---------------------------\n",
    "def fibonacci_gen(n):\n",
    "    a, b = 0, 1\n",
    "    for _ in range(n):\n",
    "        yield a\n",
    "        a, b = b, a + b\n",
    "\n",
    "print(\"\\nFibonacci Series using Generator:\")\n",
    "for num in fibonacci_gen(10):\n",
    "    print(num, end=\" \")  "
   ]
  },
  {
   "cell_type": "code",
   "execution_count": 10,
   "id": "5c9a9bdd-2069-4e11-ae53-a067b7147e1b",
   "metadata": {},
   "outputs": [
    {
     "name": "stdout",
     "output_type": "stream",
     "text": [
      "\n",
      "\n",
      "Squares using Generator Expression:\n",
      "0 1 4 9 16 "
     ]
    }
   ],
   "source": [
    "# ---------------------------\n",
    "# Generator Expression\n",
    "# ---------------------------\n",
    "squares = (x * x for x in range(5))\n",
    "print(\"\\n\\nSquares using Generator Expression:\")\n",
    "for sq in squares:\n",
    "    print(sq, end=\" \")  "
   ]
  }
 ],
 "metadata": {
  "kernelspec": {
   "display_name": "Python 3 (ipykernel)",
   "language": "python",
   "name": "python3"
  },
  "language_info": {
   "codemirror_mode": {
    "name": "ipython",
    "version": 3
   },
   "file_extension": ".py",
   "mimetype": "text/x-python",
   "name": "python",
   "nbconvert_exporter": "python",
   "pygments_lexer": "ipython3",
   "version": "3.13.5"
  }
 },
 "nbformat": 4,
 "nbformat_minor": 5
}
