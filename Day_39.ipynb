{
 "cells": [
  {
   "cell_type": "code",
   "execution_count": 1,
   "id": "5a5a1523-0f7b-439d-bc55-43db5521af95",
   "metadata": {},
   "outputs": [],
   "source": [
    "import pandas as pd\n",
    "\n",
    "# -----------------------------\n",
    "# Sample DataFrames\n",
    "# -----------------------------\n",
    "# Sales Data\n",
    "sales = pd.DataFrame({\n",
    "    \"Region\": [\"North\", \"South\", \"East\", \"West\", \"North\", \"East\"],\n",
    "    \"Product\": [\"A\", \"A\", \"B\", \"B\", \"C\", \"C\"],\n",
    "    \"Sales\": [100, 150, 200, 250, 300, 350]\n",
    "})\n",
    "\n",
    "# Students Data\n",
    "students = pd.DataFrame({\n",
    "    \"ID\": [1, 2, 3, 4],\n",
    "    \"Name\": [\"Aman\", \"Rehan\", \"Karan\", \"Magan\"],\n",
    "    \"Marks\": [85, 90, 78, 92]\n",
    "})\n",
    "\n",
    "attendance = pd.DataFrame({\n",
    "    \"ID\": [1, 2, 3, 5],\n",
    "    \"Attendance\": [90, 95, 88, 80]\n",
    "})"
   ]
  },
  {
   "cell_type": "code",
   "execution_count": 2,
   "id": "4558d9b8-01c1-469c-a992-da2d9ef9d696",
   "metadata": {},
   "outputs": [
    {
     "name": "stdout",
     "output_type": "stream",
     "text": [
      "🔹 GroupBy – Total Sales by Region:\n",
      "Region\n",
      "East     550\n",
      "North    400\n",
      "South    150\n",
      "West     250\n",
      "Name: Sales, dtype: int64\n",
      "\n",
      "🔹 GroupBy – Average Sales by Region & Product:\n",
      "Region  Product\n",
      "East    B          200.0\n",
      "        C          350.0\n",
      "North   A          100.0\n",
      "        C          300.0\n",
      "South   A          150.0\n",
      "West    B          250.0\n",
      "Name: Sales, dtype: float64\n"
     ]
    }
   ],
   "source": [
    "# -----------------------------\n",
    "# 1. GroupBy Example\n",
    "# -----------------------------\n",
    "print(\"🔹 GroupBy – Total Sales by Region:\")\n",
    "print(sales.groupby(\"Region\")[\"Sales\"].sum())\n",
    "\n",
    "print(\"\\n🔹 GroupBy – Average Sales by Region & Product:\")\n",
    "print(sales.groupby([\"Region\", \"Product\"])[\"Sales\"].mean())"
   ]
  },
  {
   "cell_type": "code",
   "execution_count": 3,
   "id": "5d391be1-a39f-4778-8330-7b43a302c75b",
   "metadata": {},
   "outputs": [
    {
     "name": "stdout",
     "output_type": "stream",
     "text": [
      "\n",
      "🔹 Merge – Students + Attendance (Inner Join):\n",
      "   ID   Name  Marks  Attendance\n",
      "0   1   Aman     85          90\n",
      "1   2  Rehan     90          95\n",
      "2   3  Karan     78          88\n",
      "\n",
      "🔹 Merge – Students + Attendance (Left Join):\n",
      "   ID   Name  Marks  Attendance\n",
      "0   1   Aman     85        90.0\n",
      "1   2  Rehan     90        95.0\n",
      "2   3  Karan     78        88.0\n",
      "3   4  Magan     92         NaN\n"
     ]
    }
   ],
   "source": [
    "\n",
    "# -----------------------------\n",
    "# 2. Merge Example\n",
    "# -----------------------------\n",
    "print(\"\\n🔹 Merge – Students + Attendance (Inner Join):\")\n",
    "print(pd.merge(students, attendance, on=\"ID\", how=\"inner\"))\n",
    "\n",
    "print(\"\\n🔹 Merge – Students + Attendance (Left Join):\")\n",
    "print(pd.merge(students, attendance, on=\"ID\", how=\"left\"))"
   ]
  },
  {
   "cell_type": "code",
   "execution_count": 4,
   "id": "e07cd936-d376-4ea9-90da-110ce725b4ad",
   "metadata": {},
   "outputs": [
    {
     "name": "stdout",
     "output_type": "stream",
     "text": [
      "\n",
      "🔹 Join – Students + Attendance (Index Join):\n",
      "     Name  Marks  Attendance\n",
      "ID                          \n",
      "1    Aman     85        90.0\n",
      "2   Rehan     90        95.0\n",
      "3   Karan     78        88.0\n",
      "4   Magan     92         NaN\n"
     ]
    }
   ],
   "source": [
    "\n",
    "# -----------------------------\n",
    "# 3. Join Example\n",
    "# -----------------------------\n",
    "# Attendance ko index bana dete hain\n",
    "attendance_indexed = attendance.set_index(\"ID\")\n",
    "students_indexed = students.set_index(\"ID\")\n",
    "\n",
    "print(\"\\n🔹 Join – Students + Attendance (Index Join):\")\n",
    "print(students_indexed.join(attendance_indexed, how=\"left\"))"
   ]
  },
  {
   "cell_type": "code",
   "execution_count": null,
   "id": "5a838d2a-5585-4f70-a16e-49ed760af756",
   "metadata": {},
   "outputs": [],
   "source": []
  }
 ],
 "metadata": {
  "kernelspec": {
   "display_name": "Python 3 (ipykernel)",
   "language": "python",
   "name": "python3"
  },
  "language_info": {
   "codemirror_mode": {
    "name": "ipython",
    "version": 3
   },
   "file_extension": ".py",
   "mimetype": "text/x-python",
   "name": "python",
   "nbconvert_exporter": "python",
   "pygments_lexer": "ipython3",
   "version": "3.13.5"
  }
 },
 "nbformat": 4,
 "nbformat_minor": 5
}
