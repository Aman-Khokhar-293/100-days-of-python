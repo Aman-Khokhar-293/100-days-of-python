{
 "cells": [
  {
   "cell_type": "code",
   "execution_count": 3,
   "id": "f2e6669d-0707-4848-8ffe-3ba79ce13d58",
   "metadata": {},
   "outputs": [],
   "source": [
    "# Day 20 – Virtual Environments & pip\n",
    "\n",
    "# 1️ ) Create a virtual environment\n",
    "!python -m venv myenv\n"
   ]
  },
  {
   "cell_type": "code",
   "execution_count": 4,
   "id": "7a9fc65a-cf51-489a-b41f-e5bfc75741d9",
   "metadata": {},
   "outputs": [
    {
     "name": "stdout",
     "output_type": "stream",
     "text": [
      "Requirement already satisfied: flask in c:\\users\\aman\\desktop\\100 days of learing\\myenv\\lib\\site-packages (3.1.1)\n",
      "Collecting requests\n",
      "  Using cached requests-2.32.4-py3-none-any.whl.metadata (4.9 kB)\n",
      "Requirement already satisfied: blinker>=1.9.0 in c:\\users\\aman\\desktop\\100 days of learing\\myenv\\lib\\site-packages (from flask) (1.9.0)\n",
      "Requirement already satisfied: click>=8.1.3 in c:\\users\\aman\\desktop\\100 days of learing\\myenv\\lib\\site-packages (from flask) (8.2.1)\n",
      "Requirement already satisfied: itsdangerous>=2.2.0 in c:\\users\\aman\\desktop\\100 days of learing\\myenv\\lib\\site-packages (from flask) (2.2.0)\n",
      "Requirement already satisfied: jinja2>=3.1.2 in c:\\users\\aman\\desktop\\100 days of learing\\myenv\\lib\\site-packages (from flask) (3.1.6)\n",
      "Requirement already satisfied: markupsafe>=2.1.1 in c:\\users\\aman\\desktop\\100 days of learing\\myenv\\lib\\site-packages (from flask) (3.0.2)\n",
      "Requirement already satisfied: werkzeug>=3.1.0 in c:\\users\\aman\\desktop\\100 days of learing\\myenv\\lib\\site-packages (from flask) (3.1.3)\n",
      "Requirement already satisfied: charset_normalizer<4,>=2 in c:\\users\\aman\\desktop\\100 days of learing\\myenv\\lib\\site-packages (from requests) (3.4.3)\n",
      "Requirement already satisfied: idna<4,>=2.5 in c:\\users\\aman\\desktop\\100 days of learing\\myenv\\lib\\site-packages (from requests) (3.10)\n",
      "Requirement already satisfied: urllib3<3,>=1.21.1 in c:\\users\\aman\\desktop\\100 days of learing\\myenv\\lib\\site-packages (from requests) (2.5.0)\n",
      "Requirement already satisfied: certifi>=2017.4.17 in c:\\users\\aman\\desktop\\100 days of learing\\myenv\\lib\\site-packages (from requests) (2025.8.3)\n",
      "Requirement already satisfied: colorama in c:\\users\\aman\\desktop\\100 days of learing\\myenv\\lib\\site-packages (from click>=8.1.3->flask) (0.4.6)\n",
      "Using cached requests-2.32.4-py3-none-any.whl (64 kB)\n",
      "Installing collected packages: requests\n",
      "Successfully installed requests-2.32.4\n"
     ]
    },
    {
     "name": "stderr",
     "output_type": "stream",
     "text": [
      "\n",
      "[notice] A new release of pip is available: 25.1.1 -> 25.2\n",
      "[notice] To update, run: C:\\Users\\AMAN\\Desktop\\100 Days of learing\\myenv\\Scripts\\python.exe -m pip install --upgrade pip\n"
     ]
    }
   ],
   "source": [
    "# 2️ ) Activate (Windows PowerShell)\n",
    "# .\\myenv\\Scripts\\activate\n",
    "# Activate (Mac/Linux)\n",
    "# source myenv/bin/activate\n",
    "\n",
    "# 3️ ) Install packages\n",
    "!myenv\\Scripts\\pip install flask requests"
   ]
  },
  {
   "cell_type": "code",
   "execution_count": 5,
   "id": "91baadf9-6c08-4516-a2f7-d5433ed230f4",
   "metadata": {},
   "outputs": [
    {
     "name": "stdout",
     "output_type": "stream",
     "text": [
      "Package            Version\n",
      "------------------ --------\n",
      "blinker            1.9.0\n",
      "certifi            2025.8.3\n",
      "charset-normalizer 3.4.3\n",
      "click              8.2.1\n",
      "colorama           0.4.6\n",
      "Flask              3.1.1\n",
      "idna               3.10\n",
      "itsdangerous       2.2.0\n",
      "Jinja2             3.1.6\n",
      "MarkupSafe         3.0.2\n",
      "pip                25.1.1\n",
      "requests           2.32.4\n",
      "urllib3            2.5.0\n",
      "Werkzeug           3.1.3\n"
     ]
    }
   ],
   "source": [
    "# 4️ ) Check installed packages\n",
    "!myenv\\Scripts\\pip list"
   ]
  },
  {
   "cell_type": "code",
   "execution_count": 6,
   "id": "dfe93f17-b79c-4706-9efd-ac995a7cb324",
   "metadata": {},
   "outputs": [],
   "source": [
    "# 5️ ) Export dependencies\n",
    "!myenv\\Scripts\\pip freeze > requirements.txt"
   ]
  },
  {
   "cell_type": "code",
   "execution_count": 7,
   "id": "294b23ff-ed83-40b2-addb-04ee09b7591e",
   "metadata": {},
   "outputs": [
    {
     "name": "stdout",
     "output_type": "stream",
     "text": [
      "Requirement already satisfied: requests in c:\\users\\aman\\desktop\\100 days of learing\\myenv\\lib\\site-packages (2.32.4)\n",
      "Requirement already satisfied: charset_normalizer<4,>=2 in c:\\users\\aman\\desktop\\100 days of learing\\myenv\\lib\\site-packages (from requests) (3.4.3)\n",
      "Requirement already satisfied: idna<4,>=2.5 in c:\\users\\aman\\desktop\\100 days of learing\\myenv\\lib\\site-packages (from requests) (3.10)\n",
      "Requirement already satisfied: urllib3<3,>=1.21.1 in c:\\users\\aman\\desktop\\100 days of learing\\myenv\\lib\\site-packages (from requests) (2.5.0)\n",
      "Requirement already satisfied: certifi>=2017.4.17 in c:\\users\\aman\\desktop\\100 days of learing\\myenv\\lib\\site-packages (from requests) (2025.8.3)\n"
     ]
    },
    {
     "name": "stderr",
     "output_type": "stream",
     "text": [
      "\n",
      "[notice] A new release of pip is available: 25.1.1 -> 25.2\n",
      "[notice] To update, run: C:\\Users\\AMAN\\Desktop\\100 Days of learing\\myenv\\Scripts\\python.exe -m pip install --upgrade pip\n"
     ]
    }
   ],
   "source": [
    "# 6️ ) Install from requirements.txt (for a new environment)\n",
    "# !myenv\\Scripts\\pip install -r requirements.txt\n",
    "\n",
    "# 7️ ) Upgrade a package\n",
    "!myenv\\Scripts\\pip install --upgrade requests"
   ]
  },
  {
   "cell_type": "code",
   "execution_count": 8,
   "id": "4a332314-59af-4e6d-8eac-5ebeb9a34883",
   "metadata": {},
   "outputs": [
    {
     "name": "stdout",
     "output_type": "stream",
     "text": [
      "Found existing installation: requests 2.32.4\n",
      "Uninstalling requests-2.32.4:\n",
      "  Successfully uninstalled requests-2.32.4\n",
      "✅ Virtual Environment & pip demo completed!\n"
     ]
    }
   ],
   "source": [
    "# 8️ ) Uninstall a package\n",
    "!myenv\\Scripts\\pip uninstall requests -y\n",
    "\n",
    "print(\"✅ Virtual Environment & pip demo completed!\")"
   ]
  }
 ],
 "metadata": {
  "kernelspec": {
   "display_name": "Python 3 (ipykernel)",
   "language": "python",
   "name": "python3"
  },
  "language_info": {
   "codemirror_mode": {
    "name": "ipython",
    "version": 3
   },
   "file_extension": ".py",
   "mimetype": "text/x-python",
   "name": "python",
   "nbconvert_exporter": "python",
   "pygments_lexer": "ipython3",
   "version": "3.13.5"
  }
 },
 "nbformat": 4,
 "nbformat_minor": 5
}
