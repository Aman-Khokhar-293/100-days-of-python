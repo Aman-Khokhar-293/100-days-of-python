{
 "cells": [
  {
   "cell_type": "code",
   "execution_count": 1,
   "id": "49baed74-e3f8-4fd5-a197-c1360c74c90d",
   "metadata": {},
   "outputs": [
    {
     "name": "stdout",
     "output_type": "stream",
     "text": [
      "Employee Records:\n",
      "(1, 'Aman', 21, 'IT')\n"
     ]
    }
   ],
   "source": [
    "import mysql.connector\n",
    "\n",
    "# Connect to MySQL\n",
    "conn = mysql.connector.connect(\n",
    "    host=\"localhost\",\n",
    "    user=\"root\",\n",
    "    password=\"#@manYK2903\",\n",
    "    database=\"testdb\"\n",
    ")\n",
    "cursor = conn.cursor()\n",
    "\n",
    "# Create table\n",
    "cursor.execute(\"\"\"\n",
    "CREATE TABLE IF NOT EXISTS employees (\n",
    "    id INT AUTO_INCREMENT PRIMARY KEY,\n",
    "    name VARCHAR(50),\n",
    "    age INT,\n",
    "    department VARCHAR(50)\n",
    ")\n",
    "\"\"\")\n",
    "\n",
    "# Insert data\n",
    "cursor.execute(\"INSERT INTO employees (name, age, department) VALUES (%s, %s, %s)\", (\"Aman\", 21, \"IT\"))\n",
    "conn.commit()\n",
    "\n",
    "# Fetch data\n",
    "cursor.execute(\"SELECT * FROM employees\")\n",
    "rows = cursor.fetchall()\n",
    "print(\"Employee Records:\")\n",
    "for row in rows:\n",
    "    print(row)\n",
    "\n",
    "# Close connection\n",
    "cursor.close()\n",
    "conn.close()\n",
    "\n"
   ]
  },
  {
   "cell_type": "code",
   "execution_count": null,
   "id": "1fec184f-fee8-4ea9-b45b-8d4e2b065501",
   "metadata": {},
   "outputs": [],
   "source": []
  }
 ],
 "metadata": {
  "kernelspec": {
   "display_name": "Python 3 (ipykernel)",
   "language": "python",
   "name": "python3"
  },
  "language_info": {
   "codemirror_mode": {
    "name": "ipython",
    "version": 3
   },
   "file_extension": ".py",
   "mimetype": "text/x-python",
   "name": "python",
   "nbconvert_exporter": "python",
   "pygments_lexer": "ipython3",
   "version": "3.13.5"
  }
 },
 "nbformat": 4,
 "nbformat_minor": 5
}
