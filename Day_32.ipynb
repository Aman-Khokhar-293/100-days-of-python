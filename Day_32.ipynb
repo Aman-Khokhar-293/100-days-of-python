{
 "cells": [
  {
   "cell_type": "code",
   "execution_count": 2,
   "id": "ddce9aa7-c530-4eda-8ceb-cceaaab36993",
   "metadata": {},
   "outputs": [
    {
     "name": "stdout",
     "output_type": "stream",
     "text": [
      " City: Ahmedabad\n",
      " Temperature: 26.91°C\n",
      " Humidity: 84%\n",
      " Condition: light rain\n"
     ]
    }
   ],
   "source": [
    "import requests\n",
    "\n",
    "API_KEY = \"cb3fb6c9e8afe8ed3394801ffc979c23\"\n",
    "city = \"Ahmedabad\"\n",
    "\n",
    "url = f\"http://api.openweathermap.org/data/2.5/weather?q={city}&appid={API_KEY}&units=metric\"\n",
    "\n",
    "response = requests.get(url)\n",
    "\n",
    "if response.status_code == 200:\n",
    "    data = response.json()\n",
    "    print(f\" City: {data['name']}\")\n",
    "    print(f\" Temperature: {data['main']['temp']}°C\")\n",
    "    print(f\" Humidity: {data['main']['humidity']}%\")\n",
    "    print(f\" Condition: {data['weather'][0]['description']}\")\n",
    "else:\n",
    "    print(\"Failed to fetch weather data:\", response.status_code)"
   ]
  },
  {
   "cell_type": "code",
   "execution_count": 15,
   "id": "2dd35c5d-cb3b-451b-b56f-7989f858bffc",
   "metadata": {},
   "outputs": [
    {
     "name": "stdout",
     "output_type": "stream",
     "text": [
      " Latest News Headlines:\n",
      "\n",
      "1. For some, fall Covid shots may come with copays — or no coverage at all - NBC News (NBC News)\n",
      "    https://www.nbcnews.com/health/health-news/-fall-covid-shots-may-come-copays-no-coverage-rcna226160\n",
      "\n",
      "2. Russia hits Ukraine with 'massive' drone, missile attack, Kyiv says - ABC News (ABC News)\n",
      "    https://abcnews.go.com/International/russia-hits-ukraine-massive-drone-missile-attack-kyiv/story?id\\\\u003d124837267\n",
      "\n",
      "3. Netflix’s ‘Hostage’ Is a Jaw-Dropping Political Thriller With Soapy Elements: TV Review - Variety (Variety)\n",
      "    https://variety.com/2025/tv/tv-reviews/hostage-netflix-review-1236494176/\n",
      "\n",
      "4. Yankees 6-4 Rays (Aug 20, 2025) Game Recap - ESPN (ESPN)\n",
      "    https://www.espn.com/mlb/recap?gameId\\\\u003d401696805\n",
      "\n",
      "5. Limits of Trump’s diplomacy clear as Moscow balks at Ukraine plan - The Washington Post (The Washington Post)\n",
      "    https://www.washingtonpost.com/politics/2025/08/20/trump-ukraine-moscow-setback/\n",
      "\n"
     ]
    }
   ],
   "source": [
    "import requests\n",
    "\n",
    "API_KEY = \"947ed52864e9410ea8c0b5fbfe8cbf1d\"   \n",
    "url = f\"https://newsapi.org/v2/top-headlines?country=us&apiKey={API_KEY}\"\n",
    "\n",
    "response = requests.get(url)\n",
    "if response.status_code == 200:\n",
    "    data = response.json()\n",
    "    articles = data[\"articles\"][:5]   # top 5 headlines\n",
    "    print(\" Latest News Headlines:\\n\")\n",
    "    for i, article in enumerate(articles, 1):\n",
    "        print(f\"{i}. {article['title']} ({article['source']['name']})\")\n",
    "        print(f\"    {article['url']}\\n\")\n",
    "else:\n",
    "    print(\" Failed to fetch news:\", response.status_code)\n"
   ]
  },
  {
   "cell_type": "code",
   "execution_count": null,
   "id": "4af00424-916d-4c4a-8821-d804d678d410",
   "metadata": {},
   "outputs": [],
   "source": []
  }
 ],
 "metadata": {
  "kernelspec": {
   "display_name": "Python 3 (ipykernel)",
   "language": "python",
   "name": "python3"
  },
  "language_info": {
   "codemirror_mode": {
    "name": "ipython",
    "version": 3
   },
   "file_extension": ".py",
   "mimetype": "text/x-python",
   "name": "python",
   "nbconvert_exporter": "python",
   "pygments_lexer": "ipython3",
   "version": "3.13.5"
  }
 },
 "nbformat": 4,
 "nbformat_minor": 5
}
