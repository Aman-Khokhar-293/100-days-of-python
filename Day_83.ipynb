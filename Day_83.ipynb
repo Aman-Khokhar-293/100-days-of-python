{
 "cells": [
  {
   "cell_type": "code",
   "execution_count": 2,
   "id": "a6a4c6a1-8b38-435e-8c09-40f7e08623c9",
   "metadata": {},
   "outputs": [],
   "source": [
    "# Day 83 - Feature Selection Methods\n",
    "\n",
    "import pandas as pd\n",
    "import numpy as np\n",
    "from sklearn.datasets import load_wine\n",
    "from sklearn.model_selection import train_test_split\n",
    "from sklearn.preprocessing import StandardScaler\n",
    "from sklearn.linear_model import LogisticRegression\n",
    "from sklearn.ensemble import RandomForestClassifier\n",
    "from sklearn.feature_selection import SelectKBest, chi2, RFE\n",
    "from sklearn.metrics import accuracy_score\n",
    "\n",
    "# Load dataset\n",
    "data = load_wine()\n",
    "X, y = data.data, data.target\n",
    "feature_names = data.feature_names\n",
    "\n",
    "# Split data\n",
    "X_train, X_test, y_train, y_test = train_test_split(X, y, test_size=0.2, random_state=42)\n",
    "\n",
    "# Scale data\n",
    "scaler = StandardScaler()\n",
    "X_train_scaled = scaler.fit_transform(X_train)\n",
    "X_test_scaled = scaler.transform(X_test)\n"
   ]
  },
  {
   "cell_type": "code",
   "execution_count": 3,
   "id": "bea03f02-d011-4fdd-81e0-20451431bf87",
   "metadata": {},
   "outputs": [
    {
     "name": "stdout",
     "output_type": "stream",
     "text": [
      "---- Filter Method: Chi-Square ----\n",
      "Selected Features: ['flavanoids' 'color_intensity' 'hue' 'od280/od315_of_diluted_wines'\n",
      " 'proline']\n"
     ]
    }
   ],
   "source": [
    "# ---------------- Filter Method (Chi-Square) ----------------\n",
    "print(\"---- Filter Method: Chi-Square ----\")\n",
    "chi_selector = SelectKBest(score_func=chi2, k=5)\n",
    "X_kbest = chi_selector.fit_transform(abs(X_train_scaled), y_train)\n",
    "selected_features = np.array(feature_names)[chi_selector.get_support()]\n",
    "print(\"Selected Features:\", selected_features)"
   ]
  },
  {
   "cell_type": "code",
   "execution_count": 4,
   "id": "ef36ad55-e4e7-4c6e-b4d5-dbfb312b1f73",
   "metadata": {},
   "outputs": [
    {
     "name": "stdout",
     "output_type": "stream",
     "text": [
      "\n",
      "---- Wrapper Method: RFE ----\n",
      "Selected Features: ['alcohol' 'flavanoids' 'color_intensity' 'hue' 'proline']\n"
     ]
    }
   ],
   "source": [
    "# ---------------- Wrapper Method (RFE) ----------------\n",
    "print(\"\\n---- Wrapper Method: RFE ----\")\n",
    "model = LogisticRegression(max_iter=200)\n",
    "rfe = RFE(model, n_features_to_select=5)\n",
    "rfe.fit(X_train_scaled, y_train)\n",
    "rfe_features = np.array(feature_names)[rfe.support_]\n",
    "print(\"Selected Features:\", rfe_features)"
   ]
  },
  {
   "cell_type": "code",
   "execution_count": 6,
   "id": "7b34cc75-a5ad-4a35-97db-cb05072d98f5",
   "metadata": {},
   "outputs": [
    {
     "name": "stdout",
     "output_type": "stream",
     "text": [
      "\n",
      "---- Embedded Method: Random Forest Importance ----\n",
      "flavanoids                      0.202293\n",
      "color_intensity                 0.171202\n",
      "proline                         0.139046\n",
      "alcohol                         0.112398\n",
      "od280/od315_of_diluted_wines    0.111564\n",
      "dtype: float64\n"
     ]
    }
   ],
   "source": [
    "# ---------------- Embedded Method (Feature Importance) ----------------\n",
    "print(\"\\n---- Embedded Method: Random Forest Importance ----\")\n",
    "rf = RandomForestClassifier(random_state=42)\n",
    "rf.fit(X_train_scaled, y_train)\n",
    "importances = pd.Series(rf.feature_importances_, index=feature_names).sort_values(ascending=False)\n",
    "print(importances.head(5))"
   ]
  },
  {
   "cell_type": "code",
   "execution_count": 7,
   "id": "00e95313-753f-476d-bfd5-f73be34e763d",
   "metadata": {},
   "outputs": [
    {
     "name": "stdout",
     "output_type": "stream",
     "text": [
      "\n",
      "Accuracy without FS: 1.0\n",
      "Accuracy with RFE FS: 1.0\n"
     ]
    }
   ],
   "source": [
    "\n",
    "# ---------------- Model Comparison ----------------\n",
    "# Logistic Regression without FS\n",
    "lr = LogisticRegression(max_iter=200)\n",
    "lr.fit(X_train_scaled, y_train)\n",
    "y_pred1 = lr.predict(X_test_scaled)\n",
    "\n",
    "# Logistic Regression with RFE features\n",
    "X_train_rfe = rfe.transform(X_train_scaled)\n",
    "X_test_rfe = rfe.transform(X_test_scaled)\n",
    "lr.fit(X_train_rfe, y_train)\n",
    "y_pred2 = lr.predict(X_test_rfe)\n",
    "\n",
    "print(\"\\nAccuracy without FS:\", accuracy_score(y_test, y_pred1))\n",
    "print(\"Accuracy with RFE FS:\", accuracy_score(y_test, y_pred2))"
   ]
  }
 ],
 "metadata": {
  "kernelspec": {
   "display_name": "Python 3 (ipykernel)",
   "language": "python",
   "name": "python3"
  },
  "language_info": {
   "codemirror_mode": {
    "name": "ipython",
    "version": 3
   },
   "file_extension": ".py",
   "mimetype": "text/x-python",
   "name": "python",
   "nbconvert_exporter": "python",
   "pygments_lexer": "ipython3",
   "version": "3.13.7"
  }
 },
 "nbformat": 4,
 "nbformat_minor": 5
}
