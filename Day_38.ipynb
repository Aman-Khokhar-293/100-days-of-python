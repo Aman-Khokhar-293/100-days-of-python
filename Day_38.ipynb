{
 "cells": [
  {
   "cell_type": "code",
   "execution_count": 11,
   "id": "faab36c8-94d6-44c0-987e-248955b75f6c",
   "metadata": {},
   "outputs": [
    {
     "data": {
      "text/html": [
       "<div>\n",
       "<style scoped>\n",
       "    .dataframe tbody tr th:only-of-type {\n",
       "        vertical-align: middle;\n",
       "    }\n",
       "\n",
       "    .dataframe tbody tr th {\n",
       "        vertical-align: top;\n",
       "    }\n",
       "\n",
       "    .dataframe thead th {\n",
       "        text-align: right;\n",
       "    }\n",
       "</style>\n",
       "<table border=\"1\" class=\"dataframe\">\n",
       "  <thead>\n",
       "    <tr style=\"text-align: right;\">\n",
       "      <th></th>\n",
       "      <th>Name</th>\n",
       "      <th>Maths</th>\n",
       "      <th>Science</th>\n",
       "      <th>English</th>\n",
       "    </tr>\n",
       "  </thead>\n",
       "  <tbody>\n",
       "    <tr>\n",
       "      <th>0</th>\n",
       "      <td>Aman</td>\n",
       "      <td>85.0</td>\n",
       "      <td>88.0</td>\n",
       "      <td>78.0</td>\n",
       "    </tr>\n",
       "    <tr>\n",
       "      <th>1</th>\n",
       "      <td>Rohan</td>\n",
       "      <td>NaN</td>\n",
       "      <td>90.0</td>\n",
       "      <td>85.0</td>\n",
       "    </tr>\n",
       "    <tr>\n",
       "      <th>2</th>\n",
       "      <td>kunal</td>\n",
       "      <td>76.0</td>\n",
       "      <td>NaN</td>\n",
       "      <td>80.0</td>\n",
       "    </tr>\n",
       "    <tr>\n",
       "      <th>3</th>\n",
       "      <td>Sunny</td>\n",
       "      <td>89.0</td>\n",
       "      <td>94.0</td>\n",
       "      <td>NaN</td>\n",
       "    </tr>\n",
       "    <tr>\n",
       "      <th>4</th>\n",
       "      <td>Rohan</td>\n",
       "      <td>92.0</td>\n",
       "      <td>90.0</td>\n",
       "      <td>85.0</td>\n",
       "    </tr>\n",
       "    <tr>\n",
       "      <th>5</th>\n",
       "      <td>NaN</td>\n",
       "      <td>95.0</td>\n",
       "      <td>91.0</td>\n",
       "      <td>88.0</td>\n",
       "    </tr>\n",
       "  </tbody>\n",
       "</table>\n",
       "</div>"
      ],
      "text/plain": [
       "    Name  Maths  Science  English\n",
       "0  Aman    85.0     88.0     78.0\n",
       "1  Rohan    NaN     90.0     85.0\n",
       "2  kunal   76.0      NaN     80.0\n",
       "3  Sunny   89.0     94.0      NaN\n",
       "4  Rohan   92.0     90.0     85.0\n",
       "5    NaN   95.0     91.0     88.0"
      ]
     },
     "execution_count": 11,
     "metadata": {},
     "output_type": "execute_result"
    }
   ],
   "source": [
    "import pandas as pd\n",
    "\n",
    "# Load messy dataset\n",
    "df = pd.read_csv(\"messy_students.csv\")\n",
    "df"
   ]
  },
  {
   "cell_type": "code",
   "execution_count": 7,
   "id": "3de591ce-f459-4c84-a272-3be79aa001dc",
   "metadata": {},
   "outputs": [],
   "source": [
    "# 1. Handle missing values\n",
    "df[\"Name\"] = df[\"Name\"].fillna(\"Unknown\")\n",
    "df[\"Maths\"] = df[\"Maths\"].fillna(df[\"Maths\"].mean())\n",
    "df[\"Science\"] = df[\"Science\"].fillna(df[\"Science\"].mean())\n",
    "df[\"English\"] = df[\"English\"].fillna(df[\"English\"].mean())"
   ]
  },
  {
   "cell_type": "code",
   "execution_count": 8,
   "id": "05c6b209-e9ae-4d18-b7af-e46c9c581261",
   "metadata": {},
   "outputs": [],
   "source": [
    "# 2. Remove duplicates\n",
    "df = df.drop_duplicates()"
   ]
  },
  {
   "cell_type": "code",
   "execution_count": 9,
   "id": "d09848f5-0ce5-477c-902e-e04d11a5ee25",
   "metadata": {},
   "outputs": [],
   "source": [
    "# 3. Fix string formatting (strip + title case)\n",
    "df[\"Name\"] = df[\"Name\"].str.strip().str.title()"
   ]
  },
  {
   "cell_type": "code",
   "execution_count": 10,
   "id": "cd0d34c9-4bda-46ee-8f3a-c9f1775adfab",
   "metadata": {},
   "outputs": [
    {
     "name": "stdout",
     "output_type": "stream",
     "text": [
      "      Name  Maths  Science  English\n",
      "0     Aman     85       88       78\n",
      "1    Rohan     87       90       85\n",
      "2    Kunal     76       90       80\n",
      "3    Sunny     89       94       83\n",
      "4    Rohan     92       90       85\n",
      "5  Unknown     95       91       88\n"
     ]
    }
   ],
   "source": [
    "\n",
    "# 4. Convert datatypes\n",
    "df[\"Maths\"] = df[\"Maths\"].astype(int)\n",
    "df[\"Science\"] = df[\"Science\"].astype(int)\n",
    "df[\"English\"] = df[\"English\"].astype(int)\n",
    "\n",
    "print(df)"
   ]
  },
  {
   "cell_type": "code",
   "execution_count": null,
   "id": "0c674489-9f90-4cce-9b2e-cd01e7d34e50",
   "metadata": {},
   "outputs": [],
   "source": []
  }
 ],
 "metadata": {
  "kernelspec": {
   "display_name": "Python 3 (ipykernel)",
   "language": "python",
   "name": "python3"
  },
  "language_info": {
   "codemirror_mode": {
    "name": "ipython",
    "version": 3
   },
   "file_extension": ".py",
   "mimetype": "text/x-python",
   "name": "python",
   "nbconvert_exporter": "python",
   "pygments_lexer": "ipython3",
   "version": "3.13.5"
  }
 },
 "nbformat": 4,
 "nbformat_minor": 5
}
