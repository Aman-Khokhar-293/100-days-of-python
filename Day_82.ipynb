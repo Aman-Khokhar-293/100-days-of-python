{
 "cells": [
  {
   "cell_type": "code",
   "execution_count": 6,
   "id": "770f493e-696a-46a6-88d0-e59fd11fc2e8",
   "metadata": {},
   "outputs": [],
   "source": [
    "# Day 82 - Model Validation Techniques\n",
    "\n",
    "from sklearn.datasets import load_iris\n",
    "from sklearn.model_selection import train_test_split, KFold, StratifiedKFold, cross_val_score, LeaveOneOut\n",
    "from sklearn.linear_model import LogisticRegression\n",
    "from sklearn.tree import DecisionTreeClassifier\n",
    "import numpy as np\n",
    "\n",
    "# Load data\n",
    "data = load_iris()\n",
    "X, y = data.data, data.target\n",
    "\n",
    "# Models to compare\n",
    "models = {\n",
    "    \"Logistic Regression\": LogisticRegression(max_iter=200),\n",
    "    \"Decision Tree\": DecisionTreeClassifier(random_state=42)\n",
    "}"
   ]
  },
  {
   "cell_type": "code",
   "execution_count": 7,
   "id": "0509c19f-dc9c-428b-9570-cdc580edc1dd",
   "metadata": {},
   "outputs": [
    {
     "name": "stdout",
     "output_type": "stream",
     "text": [
      "---- Hold-out Validation ----\n",
      "Logistic Regression: 1.000\n",
      "Decision Tree: 1.000\n"
     ]
    }
   ],
   "source": [
    "\n",
    "# Hold-out validation\n",
    "print(\"---- Hold-out Validation ----\")\n",
    "X_train, X_val, y_train, y_val = train_test_split(X, y, test_size=0.2, random_state=42)\n",
    "for name, model in models.items():\n",
    "    model.fit(X_train, y_train)\n",
    "    acc = model.score(X_val, y_val)\n",
    "    print(f\"{name}: {acc:.3f}\")"
   ]
  },
  {
   "cell_type": "code",
   "execution_count": 8,
   "id": "615a790e-71a3-480b-87dd-a255ace772f1",
   "metadata": {},
   "outputs": [
    {
     "name": "stdout",
     "output_type": "stream",
     "text": [
      "\n",
      "---- K-Fold Cross-Validation ----\n",
      "Logistic Regression: Mean=0.973, Std=0.025\n",
      "Decision Tree: Mean=0.953, Std=0.027\n"
     ]
    }
   ],
   "source": [
    "# K-Fold Cross-Validation\n",
    "print(\"\\n---- K-Fold Cross-Validation ----\")\n",
    "kf = KFold(n_splits=5, shuffle=True, random_state=42)\n",
    "for name, model in models.items():\n",
    "    scores = cross_val_score(model, X, y, cv=kf)\n",
    "    print(f\"{name}: Mean={scores.mean():.3f}, Std={scores.std():.3f}\")"
   ]
  },
  {
   "cell_type": "code",
   "execution_count": 9,
   "id": "18b255c9-b057-46fe-b1b5-53eafa26be9f",
   "metadata": {},
   "outputs": [
    {
     "name": "stdout",
     "output_type": "stream",
     "text": [
      "\n",
      "---- Stratified K-Fold ----\n",
      "Logistic Regression: Mean=0.967, Std=0.030\n",
      "Decision Tree: Mean=0.953, Std=0.034\n"
     ]
    }
   ],
   "source": [
    "# Stratified K-Fold\n",
    "print(\"\\n---- Stratified K-Fold ----\")\n",
    "skf = StratifiedKFold(n_splits=5, shuffle=True, random_state=42)\n",
    "for name, model in models.items():\n",
    "    scores = cross_val_score(model, X, y, cv=skf)\n",
    "    print(f\"{name}: Mean={scores.mean():.3f}, Std={scores.std():.3f}\")"
   ]
  },
  {
   "cell_type": "code",
   "execution_count": 10,
   "id": "749dcc4d-03be-4b80-9ad5-7e04bccf8ebb",
   "metadata": {},
   "outputs": [
    {
     "name": "stdout",
     "output_type": "stream",
     "text": [
      "\n",
      "---- Leave-One-Out (LOOCV) ----\n",
      "LOOCV Logistic Regression: Mean=0.967\n"
     ]
    }
   ],
   "source": [
    "# Leave-One-Out Cross-Validation\n",
    "print(\"\\n---- Leave-One-Out (LOOCV) ----\")\n",
    "loo = LeaveOneOut()\n",
    "model = LogisticRegression(max_iter=200)\n",
    "scores = cross_val_score(model, X, y, cv=loo)\n",
    "print(f\"LOOCV Logistic Regression: Mean={scores.mean():.3f}\")"
   ]
  },
  {
   "cell_type": "code",
   "execution_count": null,
   "id": "d696c25a-1d31-48e4-b29f-ce3c859f8545",
   "metadata": {},
   "outputs": [],
   "source": []
  }
 ],
 "metadata": {
  "kernelspec": {
   "display_name": "Python 3 (ipykernel)",
   "language": "python",
   "name": "python3"
  },
  "language_info": {
   "codemirror_mode": {
    "name": "ipython",
    "version": 3
   },
   "file_extension": ".py",
   "mimetype": "text/x-python",
   "name": "python",
   "nbconvert_exporter": "python",
   "pygments_lexer": "ipython3",
   "version": "3.13.7"
  }
 },
 "nbformat": 4,
 "nbformat_minor": 5
}
