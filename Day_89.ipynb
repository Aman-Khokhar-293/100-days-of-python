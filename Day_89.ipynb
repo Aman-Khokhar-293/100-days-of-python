{
 "cells": [
  {
   "cell_type": "code",
   "execution_count": 2,
   "id": "2416a5cd-5b54-4171-8097-ed24e8de09b4",
   "metadata": {},
   "outputs": [
    {
     "name": "stderr",
     "output_type": "stream",
     "text": [
      "C:\\Users\\amank\\AppData\\Local\\Programs\\Python\\Python313\\Lib\\site-packages\\tqdm\\auto.py:21: TqdmWarning: IProgress not found. Please update jupyter and ipywidgets. See https://ipywidgets.readthedocs.io/en/stable/user_install.html\n",
      "  from .autonotebook import tqdm as notebook_tqdm\n"
     ]
    },
    {
     "name": "stdout",
     "output_type": "stream",
     "text": [
      "Baseline Accuracy: 1.0\n"
     ]
    }
   ],
   "source": [
    "# Day 89 - Hyperparameter Tuning\n",
    "\n",
    "import pandas as pd\n",
    "from sklearn.datasets import load_iris\n",
    "from sklearn.model_selection import train_test_split, GridSearchCV, RandomizedSearchCV\n",
    "from sklearn.ensemble import RandomForestClassifier\n",
    "from sklearn.metrics import accuracy_score\n",
    "import optuna\n",
    "import warnings\n",
    "warnings.filterwarnings(\"ignore\")\n",
    "\n",
    "# ---------------- Dataset ----------------\n",
    "iris = load_iris()\n",
    "X = pd.DataFrame(iris.data, columns=iris.feature_names)\n",
    "y = iris.target\n",
    "\n",
    "X_train, X_test, y_train, y_test = train_test_split(X, y, test_size=0.2, random_state=42)\n",
    "\n",
    "# ---------------- Baseline Model ----------------\n",
    "base_model = RandomForestClassifier(random_state=42)\n",
    "base_model.fit(X_train, y_train)\n",
    "base_pred = base_model.predict(X_test)\n",
    "print(\"Baseline Accuracy:\", round(accuracy_score(y_test, base_pred), 3))"
   ]
  },
  {
   "cell_type": "code",
   "execution_count": 3,
   "id": "27fa4b67-47e5-4059-b843-ec6333452640",
   "metadata": {},
   "outputs": [
    {
     "name": "stdout",
     "output_type": "stream",
     "text": [
      "\n",
      "GridSearchCV Best Params: {'max_depth': 5, 'min_samples_split': 2, 'n_estimators': 50}\n",
      "GridSearchCV Accuracy: 1.0\n"
     ]
    }
   ],
   "source": [
    "# ---------------- 1️⃣ Grid Search CV ----------------\n",
    "param_grid = {\n",
    "    'n_estimators': [50, 100, 200],\n",
    "    'max_depth': [3, 5, 10, None],\n",
    "    'min_samples_split': [2, 5, 10]\n",
    "}\n",
    "\n",
    "grid_search = GridSearchCV(RandomForestClassifier(random_state=42), param_grid, cv=3, n_jobs=-1)\n",
    "grid_search.fit(X_train, y_train)\n",
    "grid_best = grid_search.best_estimator_\n",
    "grid_pred = grid_best.predict(X_test)\n",
    "print(\"\\nGridSearchCV Best Params:\", grid_search.best_params_)\n",
    "print(\"GridSearchCV Accuracy:\", round(accuracy_score(y_test, grid_pred), 3))"
   ]
  },
  {
   "cell_type": "code",
   "execution_count": 5,
   "id": "ee5531e5-e69a-4741-9d37-1752d6cc2ba0",
   "metadata": {},
   "outputs": [
    {
     "name": "stdout",
     "output_type": "stream",
     "text": [
      "\n",
      "RandomizedSearchCV Best Params: {'max_depth': None, 'min_samples_split': 6, 'n_estimators': 152}\n",
      "RandomizedSearchCV Accuracy: 1.0\n"
     ]
    }
   ],
   "source": [
    "# ---------------- 2️⃣ Randomized Search CV ----------------\n",
    "from scipy.stats import randint\n",
    "\n",
    "param_dist = {\n",
    "    'n_estimators': randint(50, 300),\n",
    "    'max_depth': [None, 5, 10, 20],\n",
    "    'min_samples_split': randint(2, 10)\n",
    "}\n",
    "\n",
    "random_search = RandomizedSearchCV(RandomForestClassifier(random_state=42),\n",
    "                                   param_distributions=param_dist,\n",
    "                                   n_iter=10,\n",
    "                                   cv=3,\n",
    "                                   random_state=42,\n",
    "                                   n_jobs=-1)\n",
    "random_search.fit(X_train, y_train)\n",
    "rand_best = random_search.best_estimator_\n",
    "rand_pred = rand_best.predict(X_test)\n",
    "print(\"\\nRandomizedSearchCV Best Params:\", random_search.best_params_)\n",
    "print(\"RandomizedSearchCV Accuracy:\", round(accuracy_score(y_test, rand_pred), 3))"
   ]
  },
  {
   "cell_type": "code",
   "execution_count": 6,
   "id": "c9ccf177-effb-492e-a8a0-5058fedd72bb",
   "metadata": {},
   "outputs": [
    {
     "name": "stderr",
     "output_type": "stream",
     "text": [
      "[I 2025-10-18 15:42:17,299] A new study created in memory with name: no-name-d42fa985-2f43-452c-8475-037af90d0247\n",
      "[I 2025-10-18 15:42:17,427] Trial 0 finished with value: 1.0 and parameters: {'n_estimators': 76, 'max_depth': 6, 'min_samples_split': 7}. Best is trial 0 with value: 1.0.\n",
      "[I 2025-10-18 15:42:17,813] Trial 1 finished with value: 1.0 and parameters: {'n_estimators': 257, 'max_depth': 15, 'min_samples_split': 6}. Best is trial 0 with value: 1.0.\n",
      "[I 2025-10-18 15:42:17,986] Trial 2 finished with value: 1.0 and parameters: {'n_estimators': 102, 'max_depth': 8, 'min_samples_split': 4}. Best is trial 0 with value: 1.0.\n",
      "[I 2025-10-18 15:42:18,094] Trial 3 finished with value: 1.0 and parameters: {'n_estimators': 62, 'max_depth': 20, 'min_samples_split': 8}. Best is trial 0 with value: 1.0.\n",
      "[I 2025-10-18 15:42:18,294] Trial 4 finished with value: 1.0 and parameters: {'n_estimators': 94, 'max_depth': 9, 'min_samples_split': 8}. Best is trial 0 with value: 1.0.\n",
      "[I 2025-10-18 15:42:18,702] Trial 5 finished with value: 1.0 and parameters: {'n_estimators': 248, 'max_depth': 12, 'min_samples_split': 4}. Best is trial 0 with value: 1.0.\n",
      "[I 2025-10-18 15:42:18,851] Trial 6 finished with value: 1.0 and parameters: {'n_estimators': 91, 'max_depth': 9, 'min_samples_split': 6}. Best is trial 0 with value: 1.0.\n",
      "[I 2025-10-18 15:42:19,081] Trial 7 finished with value: 1.0 and parameters: {'n_estimators': 143, 'max_depth': 7, 'min_samples_split': 10}. Best is trial 0 with value: 1.0.\n",
      "[I 2025-10-18 15:42:19,318] Trial 8 finished with value: 1.0 and parameters: {'n_estimators': 147, 'max_depth': 18, 'min_samples_split': 10}. Best is trial 0 with value: 1.0.\n",
      "[I 2025-10-18 15:42:19,741] Trial 9 finished with value: 1.0 and parameters: {'n_estimators': 276, 'max_depth': 13, 'min_samples_split': 5}. Best is trial 0 with value: 1.0.\n",
      "[I 2025-10-18 15:42:20,068] Trial 10 finished with value: 1.0 and parameters: {'n_estimators': 201, 'max_depth': 2, 'min_samples_split': 2}. Best is trial 0 with value: 1.0.\n",
      "[I 2025-10-18 15:42:20,425] Trial 11 finished with value: 1.0 and parameters: {'n_estimators': 208, 'max_depth': 15, 'min_samples_split': 7}. Best is trial 0 with value: 1.0.\n",
      "[I 2025-10-18 15:42:20,878] Trial 12 finished with value: 1.0 and parameters: {'n_estimators': 280, 'max_depth': 3, 'min_samples_split': 7}. Best is trial 0 with value: 1.0.\n",
      "[I 2025-10-18 15:42:21,254] Trial 13 finished with value: 1.0 and parameters: {'n_estimators': 231, 'max_depth': 5, 'min_samples_split': 6}. Best is trial 0 with value: 1.0.\n",
      "[I 2025-10-18 15:42:21,544] Trial 14 finished with value: 1.0 and parameters: {'n_estimators': 163, 'max_depth': 16, 'min_samples_split': 8}. Best is trial 0 with value: 1.0.\n",
      "[I 2025-10-18 15:42:21,644] Trial 15 finished with value: 1.0 and parameters: {'n_estimators': 55, 'max_depth': 11, 'min_samples_split': 2}. Best is trial 0 with value: 1.0.\n",
      "[I 2025-10-18 15:42:22,090] Trial 16 finished with value: 1.0 and parameters: {'n_estimators': 296, 'max_depth': 5, 'min_samples_split': 4}. Best is trial 0 with value: 1.0.\n",
      "[I 2025-10-18 15:42:22,295] Trial 17 finished with value: 1.0 and parameters: {'n_estimators': 121, 'max_depth': 14, 'min_samples_split': 9}. Best is trial 0 with value: 1.0.\n",
      "[I 2025-10-18 15:42:22,600] Trial 18 finished with value: 1.0 and parameters: {'n_estimators': 191, 'max_depth': 17, 'min_samples_split': 5}. Best is trial 0 with value: 1.0.\n",
      "[I 2025-10-18 15:42:23,012] Trial 19 finished with value: 1.0 and parameters: {'n_estimators': 241, 'max_depth': 11, 'min_samples_split': 6}. Best is trial 0 with value: 1.0.\n"
     ]
    },
    {
     "name": "stdout",
     "output_type": "stream",
     "text": [
      "\n",
      "Optuna Best Params: {'n_estimators': 76, 'max_depth': 6, 'min_samples_split': 7}\n",
      "Optuna Tuned Accuracy: 1.0\n"
     ]
    }
   ],
   "source": [
    "# ---------------- 3️⃣ Optuna Optimization ----------------\n",
    "def objective(trial):\n",
    "    n_estimators = trial.suggest_int(\"n_estimators\", 50, 300)\n",
    "    max_depth = trial.suggest_int(\"max_depth\", 2, 20)\n",
    "    min_samples_split = trial.suggest_int(\"min_samples_split\", 2, 10)\n",
    "    \n",
    "    model = RandomForestClassifier(\n",
    "        n_estimators=n_estimators,\n",
    "        max_depth=max_depth,\n",
    "        min_samples_split=min_samples_split,\n",
    "        random_state=42\n",
    "    )\n",
    "    model.fit(X_train, y_train)\n",
    "    preds = model.predict(X_test)\n",
    "    return accuracy_score(y_test, preds)\n",
    "\n",
    "study = optuna.create_study(direction=\"maximize\")\n",
    "study.optimize(objective, n_trials=20)\n",
    "\n",
    "optuna_best_params = study.best_params\n",
    "print(\"\\nOptuna Best Params:\", optuna_best_params)\n",
    "\n",
    "optuna_best_model = RandomForestClassifier(**optuna_best_params, random_state=42)\n",
    "optuna_best_model.fit(X_train, y_train)\n",
    "optuna_pred = optuna_best_model.predict(X_test)\n",
    "print(\"Optuna Tuned Accuracy:\", round(accuracy_score(y_test, optuna_pred), 3))\n"
   ]
  },
  {
   "cell_type": "code",
   "execution_count": null,
   "id": "0b170f16-c3fa-4b85-9c65-8161dc6f9ffa",
   "metadata": {},
   "outputs": [],
   "source": []
  }
 ],
 "metadata": {
  "kernelspec": {
   "display_name": "Python 3 (ipykernel)",
   "language": "python",
   "name": "python3"
  },
  "language_info": {
   "codemirror_mode": {
    "name": "ipython",
    "version": 3
   },
   "file_extension": ".py",
   "mimetype": "text/x-python",
   "name": "python",
   "nbconvert_exporter": "python",
   "pygments_lexer": "ipython3",
   "version": "3.13.7"
  }
 },
 "nbformat": 4,
 "nbformat_minor": 5
}
