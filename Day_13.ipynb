{
 "cells": [
  {
   "cell_type": "code",
   "execution_count": 4,
   "id": "ef719e9f-2a4b-452f-b8df-d2f52306c11b",
   "metadata": {},
   "outputs": [
    {
     "name": "stdin",
     "output_type": "stream",
     "text": [
      "Enter password length:  11\n"
     ]
    },
    {
     "name": "stdout",
     "output_type": "stream",
     "text": [
      "Your password is: 883cTL0AFa2\n"
     ]
    }
   ],
   "source": [
    "import random\n",
    "\n",
    "# Define characters to use\n",
    "letters = 'abcdefghijklmnopqrstuvwxyzABCDEFGHIJKLMNOPQRSTUVWXYZ'\n",
    "numbers = '0123456789'\n",
    "symbols = '@#$&'\n",
    "\n",
    "all_chars = letters + numbers + symbols\n",
    "\n",
    "# Get password length from user\n",
    "length = int(input(\"Enter password length: \"))\n",
    "\n",
    "# Generate password\n",
    "password = \"\"\n",
    "for i in range(length):\n",
    "    password += random.choice(all_chars)\n",
    "\n",
    "print(\"Your password is:\", password)\n"
   ]
  },
  {
   "cell_type": "code",
   "execution_count": 15,
   "id": "cd156cab-f0fb-462b-a679-8473d855858b",
   "metadata": {},
   "outputs": [
    {
     "name": "stdin",
     "output_type": "stream",
     "text": [
      "Enter your name:  Aman\n"
     ]
    },
    {
     "name": "stdout",
     "output_type": "stream",
     "text": [
      "Hello, Aman! Welcome to the world of Python Modules.\n"
     ]
    }
   ],
   "source": [
    "import greeting_module\n",
    "\n",
    "user_name = input(\"Enter your name: \")\n",
    "message = greeting_module.greet(user_name)\n",
    "print(message)\n"
   ]
  },
  {
   "cell_type": "code",
   "execution_count": null,
   "id": "de340fd1-3809-4a61-a2f5-7e7e9d71da6d",
   "metadata": {},
   "outputs": [],
   "source": []
  }
 ],
 "metadata": {
  "kernelspec": {
   "display_name": "Python 3 (ipykernel)",
   "language": "python",
   "name": "python3"
  },
  "language_info": {
   "codemirror_mode": {
    "name": "ipython",
    "version": 3
   },
   "file_extension": ".py",
   "mimetype": "text/x-python",
   "name": "python",
   "nbconvert_exporter": "python",
   "pygments_lexer": "ipython3",
   "version": "3.13.5"
  }
 },
 "nbformat": 4,
 "nbformat_minor": 5
}
